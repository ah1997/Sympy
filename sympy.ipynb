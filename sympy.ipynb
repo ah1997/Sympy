{
  "cells": [
    {
      "cell_type": "markdown",
      "metadata": {
        "id": "view-in-github",
        "colab_type": "text"
      },
      "source": [
        "<a href=\"https://colab.research.google.com/github/ah1997/Sympy/blob/main/sympy.ipynb\" target=\"_parent\"><img src=\"https://colab.research.google.com/assets/colab-badge.svg\" alt=\"Open In Colab\"/></a>"
      ]
    },
    {
      "cell_type": "code",
      "execution_count": null,
      "metadata": {
        "id": "8L07Z0qb8iZR"
      },
      "outputs": [],
      "source": [
        "# import module\n",
        "import sympy as sym\n",
        "import numpy as np \n",
        "import matplotlib.pyplot as plt \n"
      ]
    },
    {
      "cell_type": "code",
      "execution_count": null,
      "metadata": {
        "id": "sTxtmIcZ8iZW"
      },
      "outputs": [],
      "source": [
        " # parameter define \n",
        "d1 = sym.Symbol('d1')\n",
        "d2 = sym.Symbol('d2')\n",
        "a = sym.Symbol('a')\n",
        "s = sym.Symbol('s')\n",
        "b= sym.Symbol('b')\n",
        "A = sym.Symbol('A')\n",
        "B = sym.Symbol('B')\n",
        "x = sym.Symbol('x')\n",
        "d0 = sym.Symbol('d0')\n",
        "L = sym.Symbol('L')"
      ]
    },
    {
      "cell_type": "code",
      "execution_count": null,
      "metadata": {
        "id": "ih-g2dNR8iZX"
      },
      "outputs": [],
      "source": [
        "def Diff(d1,d2,a,s):\n",
        "    d11 = (sym.sqrt(d1/d2)+d1/d2)*sym.exp(a*(sym.sqrt(s/d1)-sym.sqrt(s/d2)))/2\n",
        "    d12 = (-sym.sqrt(d1/d2)+d1/d2)*sym.exp(-a*(sym.sqrt(s/d1)+sym.sqrt(s/d2)))/2\n",
        "    d21 = (-sym.sqrt(d1/d2)+d1/d2)*sym.exp(a*(sym.sqrt(s/d1)+sym.sqrt(s/d2)))/2\n",
        "    d22 = (sym.sqrt(d1/d2)+d1/d2)*sym.exp(-a*(sym.sqrt(s/d1)-sym.sqrt(s/d2)))/2\n",
        "    D = sym.Matrix([[d11,d12],[d21,d22]])\n",
        "    return D\n",
        "def src(d2,a,s): \n",
        "    s11 = -sym.exp(-sym.sqrt(s/d2)*a)/(2*sym.sqrt(s*d2))\n",
        "    s21 =sym.exp(sym.sqrt(s/d2)*a)/(2*sym.sqrt(s*d2))\n",
        "    S = sym.Matrix([[s11],[s21]])\n",
        "    return S\n",
        "\n",
        "def coef(A,B):\n",
        "    C = sym.Matrix([[A],[B]])\n",
        "    return C\n",
        "\n",
        "def gm(x,d1,s):\n",
        "    g11 = sym.exp(x*sym.sqrt(s/d1))\n",
        "    g12 = sym.exp(-x*sym.sqrt(s/d1))\n",
        "    g = sym.Matrix([[g11,g12]])\n",
        "    return g\n",
        "\n",
        "def perdc(d1,d2,L,s):\n",
        "    p11 = (sym.sqrt(d1/d2)+d1/d2)*sym.exp(-L*(sym.sqrt(s/d1)+sym.sqrt(s/d2)))/2\n",
        "    p12 = (-sym.sqrt(d1/d2)+d1/d2)*sym.exp(L*(sym.sqrt(s/d1)-sym.sqrt(s/d2)))/2\n",
        "    p21 = (-sym.sqrt(d1/d2)+d1/d2)*sym.exp(L*(-sym.sqrt(s/d1)+sym.sqrt(s/d2)))/2\n",
        "    p22 = (sym.sqrt(d1/d2)+d1/d2)*sym.exp(L*(sym.sqrt(s/d1)+sym.sqrt(s/d2)))/2\n",
        "    pd = sym.Matrix([[p11,p12],[p21,p22]])\n",
        "    return pd\n",
        "CL = coef(0,A)\n",
        "CR = coef(B,0)\n",
        "CL\n",
        "g1 = gm(x,d1,s)\n",
        "g2 = gm(x,d2,s)"
      ]
    },
    {
      "cell_type": "code",
      "execution_count": null,
      "metadata": {
        "id": "Bu-9W0sK8iZZ",
        "outputId": "5bfce9c6-84ad-4047-bf7b-a16631fe01b3"
      },
      "outputs": [
        {
          "data": {
            "text/latex": [
              "$\\displaystyle \\left[\\begin{matrix}\\frac{A \\left(\\sqrt{\\frac{d_{2}}{d_{1}}} + \\frac{d_{2}}{d_{1}}\\right) e^{b \\left(- \\sqrt{\\frac{s}{d_{1}}} + \\sqrt{\\frac{s}{d_{2}}}\\right)}}{2} - \\frac{e^{- a \\sqrt{\\frac{s}{d_{1}}}}}{2 \\sqrt{d_{1} s}}\\\\\\frac{A \\left(- \\sqrt{\\frac{d_{2}}{d_{1}}} + \\frac{d_{2}}{d_{1}}\\right) e^{b \\left(\\sqrt{\\frac{s}{d_{1}}} + \\sqrt{\\frac{s}{d_{2}}}\\right)}}{2} + \\frac{e^{a \\sqrt{\\frac{s}{d_{1}}}}}{2 \\sqrt{d_{1} s}}\\end{matrix}\\right]$"
            ],
            "text/plain": [
              "Matrix([\n",
              "[A*(sqrt(d2/d1) + d2/d1)*exp(b*(-sqrt(s/d1) + sqrt(s/d2)))/2 - exp(-a*sqrt(s/d1))/(2*sqrt(d1*s))],\n",
              "[ A*(-sqrt(d2/d1) + d2/d1)*exp(b*(sqrt(s/d1) + sqrt(s/d2)))/2 + exp(a*sqrt(s/d1))/(2*sqrt(d1*s))]])"
            ]
          },
          "execution_count": 4,
          "metadata": {},
          "output_type": "execute_result"
        }
      ],
      "source": [
        "C2 = coef(A, 0)\n",
        "C0 = sym.MatMul(Diff(d2,d1,b,s),C2).doit()\n",
        "C1 = sym.MatMul(Diff(d1,d1,a,s),C0).doit()+ src(d1, a, s)\n",
        "C1"
      ]
    },
    {
      "cell_type": "code",
      "execution_count": null,
      "metadata": {
        "id": "higDJ95h8iZa",
        "outputId": "f3852b3e-b408-424a-b8a3-52c1e9d195fb"
      },
      "outputs": [
        {
          "data": {
            "text/latex": [
              "$\\displaystyle \\left[\\begin{matrix}A\\\\0\\end{matrix}\\right]$"
            ],
            "text/plain": [
              "Matrix([\n",
              "[A],\n",
              "[0]])"
            ]
          },
          "execution_count": 5,
          "metadata": {},
          "output_type": "execute_result"
        }
      ],
      "source": [
        "C2"
      ]
    },
    {
      "cell_type": "code",
      "execution_count": null,
      "metadata": {
        "id": "gcWbjYSt8iZb",
        "outputId": "b9bbbb9c-9a1b-417a-c62b-d90a6ccda61f"
      },
      "outputs": [
        {
          "data": {
            "text/latex": [
              "$\\displaystyle \\left[\\begin{matrix}\\frac{A \\left(\\sqrt{\\frac{d_{2}}{d_{1}}} + \\frac{d_{2}}{d_{1}}\\right) e^{b \\left(- \\sqrt{\\frac{s}{d_{1}}} + \\sqrt{\\frac{s}{d_{2}}}\\right)}}{2}\\\\\\frac{A \\left(- \\sqrt{\\frac{d_{2}}{d_{1}}} + \\frac{d_{2}}{d_{1}}\\right) e^{b \\left(\\sqrt{\\frac{s}{d_{1}}} + \\sqrt{\\frac{s}{d_{2}}}\\right)}}{2}\\end{matrix}\\right]$"
            ],
            "text/plain": [
              "Matrix([\n",
              "[A*(sqrt(d2/d1) + d2/d1)*exp(b*(-sqrt(s/d1) + sqrt(s/d2)))/2],\n",
              "[A*(-sqrt(d2/d1) + d2/d1)*exp(b*(sqrt(s/d1) + sqrt(s/d2)))/2]])"
            ]
          },
          "execution_count": 31,
          "metadata": {},
          "output_type": "execute_result"
        }
      ],
      "source": [
        "C0"
      ]
    },
    {
      "cell_type": "code",
      "execution_count": null,
      "metadata": {
        "id": "t4IxpvQz8iZc",
        "outputId": "1fe0ae34-3a04-4fca-fed2-2e6b3949f9e7"
      },
      "outputs": [
        {
          "data": {
            "text/latex": [
              "$\\displaystyle \\left[\\begin{matrix}\\frac{A \\left(\\sqrt{\\frac{d_{2}}{d_{1}}} + \\frac{d_{2}}{d_{1}}\\right) e^{b \\left(- \\sqrt{\\frac{s}{d_{1}}} + \\sqrt{\\frac{s}{d_{2}}}\\right)}}{2} - \\frac{e^{- a \\sqrt{\\frac{s}{d_{1}}}}}{2 \\sqrt{d_{1} s}}\\\\\\frac{A \\left(- \\sqrt{\\frac{d_{2}}{d_{1}}} + \\frac{d_{2}}{d_{1}}\\right) e^{b \\left(\\sqrt{\\frac{s}{d_{1}}} + \\sqrt{\\frac{s}{d_{2}}}\\right)}}{2} + \\frac{e^{a \\sqrt{\\frac{s}{d_{1}}}}}{2 \\sqrt{d_{1} s}}\\end{matrix}\\right]$"
            ],
            "text/plain": [
              "Matrix([\n",
              "[A*(sqrt(d2/d1) + d2/d1)*exp(b*(-sqrt(s/d1) + sqrt(s/d2)))/2 - exp(-a*sqrt(s/d1))/(2*sqrt(d1*s))],\n",
              "[ A*(-sqrt(d2/d1) + d2/d1)*exp(b*(sqrt(s/d1) + sqrt(s/d2)))/2 + exp(a*sqrt(s/d1))/(2*sqrt(d1*s))]])"
            ]
          },
          "execution_count": 6,
          "metadata": {},
          "output_type": "execute_result"
        }
      ],
      "source": [
        "C1"
      ]
    },
    {
      "cell_type": "code",
      "execution_count": null,
      "metadata": {
        "id": "xj8g3YZt8iZc",
        "outputId": "5001b871-af91-4a78-89ac-d71f379b14bb"
      },
      "outputs": [
        {
          "data": {
            "text/latex": [
              "$\\displaystyle \\left\\{\\frac{e^{- a \\sqrt{\\frac{s}{d_{1}}}} e^{b \\left(\\sqrt{\\frac{s}{d_{1}}} - \\sqrt{\\frac{s}{d_{2}}}\\right)}}{\\sqrt{d_{1} s} \\left(\\sqrt{\\frac{d_{2}}{d_{1}}} + \\frac{d_{2}}{d_{1}}\\right)}\\right\\}$"
            ],
            "text/plain": [
              "FiniteSet(exp(-a*sqrt(s/d1))*exp(b*(sqrt(s/d1) - sqrt(s/d2)))/(sqrt(d1*s)*(sqrt(d2/d1) + d2/d1)))"
            ]
          },
          "execution_count": 7,
          "metadata": {},
          "output_type": "execute_result"
        }
      ],
      "source": [
        "As = sym.solveset(C1[0],A)\n",
        "As"
      ]
    },
    {
      "cell_type": "markdown",
      "metadata": {
        "id": "djQkFFGK8iZd"
      },
      "source": [
        "# 2 layer diffusion \n",
        "## Free boundary condition\n"
      ]
    },
    {
      "cell_type": "code",
      "execution_count": null,
      "metadata": {
        "id": "2rZrR4Pf8iZf",
        "outputId": "a2ee53ba-2436-44b5-e85e-13b3efbbcdd9"
      },
      "outputs": [
        {
          "data": {
            "text/latex": [
              "$\\displaystyle \\left[\\begin{matrix}\\left\\{\\frac{e^{- a \\sqrt{\\frac{s}{d_{1}}}} e^{b \\left(\\sqrt{\\frac{s}{d_{1}}} - \\sqrt{\\frac{s}{d_{2}}}\\right)}}{\\sqrt{d_{1} s} \\left(\\sqrt{\\frac{d_{2}}{d_{1}}} + \\frac{d_{2}}{d_{1}}\\right)}\\right\\}\\\\0\\end{matrix}\\right]$"
            ],
            "text/plain": [
              "Matrix([\n",
              "[FiniteSet(exp(-a*sqrt(s/d1))*exp(b*(sqrt(s/d1) - sqrt(s/d2)))/(sqrt(d1*s)*(sqrt(d2/d1) + d2/d1)))],\n",
              "[                                                                                                0]])"
            ]
          },
          "execution_count": 34,
          "metadata": {},
          "output_type": "execute_result"
        }
      ],
      "source": [
        "Cs2 = coef(As, 0)\n",
        "Cs2"
      ]
    },
    {
      "cell_type": "code",
      "execution_count": null,
      "metadata": {
        "id": "YesCExaI8iZh",
        "outputId": "f169df94-2a5a-4fd5-ae95-795869328b29"
      },
      "outputs": [
        {
          "data": {
            "text/latex": [
              "$\\displaystyle \\left[\\begin{matrix}\\frac{\\left(\\sqrt{\\frac{d_{2}}{d_{1}}} + \\frac{d_{2}}{d_{1}}\\right) e^{b \\left(- \\sqrt{\\frac{s}{d_{1}}} + \\sqrt{\\frac{s}{d_{2}}}\\right)} \\left\\{\\frac{e^{- a \\sqrt{\\frac{s}{d_{1}}}} e^{b \\left(\\sqrt{\\frac{s}{d_{1}}} - \\sqrt{\\frac{s}{d_{2}}}\\right)}}{\\sqrt{d_{1} s} \\left(\\sqrt{\\frac{d_{2}}{d_{1}}} + \\frac{d_{2}}{d_{1}}\\right)}\\right\\}}{2}\\\\\\frac{\\left(- \\sqrt{\\frac{d_{2}}{d_{1}}} + \\frac{d_{2}}{d_{1}}\\right) e^{b \\left(\\sqrt{\\frac{s}{d_{1}}} + \\sqrt{\\frac{s}{d_{2}}}\\right)} \\left\\{\\frac{e^{- a \\sqrt{\\frac{s}{d_{1}}}} e^{b \\left(\\sqrt{\\frac{s}{d_{1}}} - \\sqrt{\\frac{s}{d_{2}}}\\right)}}{\\sqrt{d_{1} s} \\left(\\sqrt{\\frac{d_{2}}{d_{1}}} + \\frac{d_{2}}{d_{1}}\\right)}\\right\\}}{2}\\end{matrix}\\right]$"
            ],
            "text/plain": [
              "Matrix([\n",
              "[(sqrt(d2/d1) + d2/d1)*exp(b*(-sqrt(s/d1) + sqrt(s/d2)))*FiniteSet(exp(-a*sqrt(s/d1))*exp(b*(sqrt(s/d1) - sqrt(s/d2)))/(sqrt(d1*s)*(sqrt(d2/d1) + d2/d1)))/2],\n",
              "[(-sqrt(d2/d1) + d2/d1)*exp(b*(sqrt(s/d1) + sqrt(s/d2)))*FiniteSet(exp(-a*sqrt(s/d1))*exp(b*(sqrt(s/d1) - sqrt(s/d2)))/(sqrt(d1*s)*(sqrt(d2/d1) + d2/d1)))/2]])"
            ]
          },
          "execution_count": 8,
          "metadata": {},
          "output_type": "execute_result"
        }
      ],
      "source": [
        "Cs0 = C0.subs(A,As)\n",
        "Cs0"
      ]
    },
    {
      "cell_type": "code",
      "execution_count": null,
      "metadata": {
        "id": "kxv7OmnN8iZh",
        "outputId": "b2eedc8a-5917-46e7-d0ac-577a24d80466"
      },
      "outputs": [
        {
          "data": {
            "text/latex": [
              "$\\displaystyle \\left[\\begin{matrix}\\frac{\\left(\\sqrt{\\frac{d_{2}}{d_{1}}} + \\frac{d_{2}}{d_{1}}\\right) e^{b \\left(- \\sqrt{\\frac{s}{d_{1}}} + \\sqrt{\\frac{s}{d_{2}}}\\right)} \\left\\{\\frac{e^{- a \\sqrt{\\frac{s}{d_{1}}}} e^{b \\left(\\sqrt{\\frac{s}{d_{1}}} - \\sqrt{\\frac{s}{d_{2}}}\\right)}}{\\sqrt{d_{1} s} \\left(\\sqrt{\\frac{d_{2}}{d_{1}}} + \\frac{d_{2}}{d_{1}}\\right)}\\right\\}}{2} - \\frac{e^{- a \\sqrt{\\frac{s}{d_{1}}}}}{2 \\sqrt{d_{1} s}}\\\\\\frac{\\left(- \\sqrt{\\frac{d_{2}}{d_{1}}} + \\frac{d_{2}}{d_{1}}\\right) e^{b \\left(\\sqrt{\\frac{s}{d_{1}}} + \\sqrt{\\frac{s}{d_{2}}}\\right)} \\left\\{\\frac{e^{- a \\sqrt{\\frac{s}{d_{1}}}} e^{b \\left(\\sqrt{\\frac{s}{d_{1}}} - \\sqrt{\\frac{s}{d_{2}}}\\right)}}{\\sqrt{d_{1} s} \\left(\\sqrt{\\frac{d_{2}}{d_{1}}} + \\frac{d_{2}}{d_{1}}\\right)}\\right\\}}{2} + \\frac{e^{a \\sqrt{\\frac{s}{d_{1}}}}}{2 \\sqrt{d_{1} s}}\\end{matrix}\\right]$"
            ],
            "text/plain": [
              "Matrix([\n",
              "[(sqrt(d2/d1) + d2/d1)*exp(b*(-sqrt(s/d1) + sqrt(s/d2)))*FiniteSet(exp(-a*sqrt(s/d1))*exp(b*(sqrt(s/d1) - sqrt(s/d2)))/(sqrt(d1*s)*(sqrt(d2/d1) + d2/d1)))/2 - exp(-a*sqrt(s/d1))/(2*sqrt(d1*s))],\n",
              "[ (-sqrt(d2/d1) + d2/d1)*exp(b*(sqrt(s/d1) + sqrt(s/d2)))*FiniteSet(exp(-a*sqrt(s/d1))*exp(b*(sqrt(s/d1) - sqrt(s/d2)))/(sqrt(d1*s)*(sqrt(d2/d1) + d2/d1)))/2 + exp(a*sqrt(s/d1))/(2*sqrt(d1*s))]])"
            ]
          },
          "execution_count": 9,
          "metadata": {},
          "output_type": "execute_result"
        }
      ],
      "source": [
        "Cs1 = C1.subs(A,As).doit()\n",
        "Cs1"
      ]
    },
    {
      "cell_type": "markdown",
      "metadata": {
        "id": "xWKTpBeR8iZi"
      },
      "source": [
        "# 2 layer problem source at junction"
      ]
    },
    {
      "cell_type": "code",
      "execution_count": null,
      "metadata": {
        "id": "ZbCvruaD8iZi",
        "outputId": "85dd7e77-5691-46f6-8d50-0b779d9c640d"
      },
      "outputs": [
        {
          "data": {
            "text/latex": [
              "$\\displaystyle \\left[\\begin{matrix}A\\\\0\\end{matrix}\\right]$"
            ],
            "text/plain": [
              "Matrix([\n",
              "[A],\n",
              "[0]])"
            ]
          },
          "execution_count": 47,
          "metadata": {},
          "output_type": "execute_result"
        }
      ],
      "source": [
        "C2 = coef(A, 0)\n",
        "C0 = sym.MatMul(Diff(d2,d1,b,s),C2).doit()+ src(d1, b, s)\n",
        "#C1 = sym.MatMul(Diff(d1,d1,a,s),C0).doit()+ src(d1, a, s)\n",
        "C2"
      ]
    },
    {
      "cell_type": "code",
      "execution_count": null,
      "metadata": {
        "id": "AaEwrWI_8iZj",
        "outputId": "84ebce06-d0ba-4449-bc6e-10b2477cf2cb"
      },
      "outputs": [
        {
          "data": {
            "text/latex": [
              "$\\displaystyle \\left[\\begin{matrix}\\frac{A \\left(\\sqrt{\\frac{d_{2}}{d_{1}}} + \\frac{d_{2}}{d_{1}}\\right) e^{b \\left(- \\sqrt{\\frac{s}{d_{1}}} + \\sqrt{\\frac{s}{d_{2}}}\\right)}}{2} - \\frac{e^{- b \\sqrt{\\frac{s}{d_{1}}}}}{2 \\sqrt{d_{1} s}}\\\\\\frac{A \\left(- \\sqrt{\\frac{d_{2}}{d_{1}}} + \\frac{d_{2}}{d_{1}}\\right) e^{b \\left(\\sqrt{\\frac{s}{d_{1}}} + \\sqrt{\\frac{s}{d_{2}}}\\right)}}{2} + \\frac{e^{b \\sqrt{\\frac{s}{d_{1}}}}}{2 \\sqrt{d_{1} s}}\\end{matrix}\\right]$"
            ],
            "text/plain": [
              "Matrix([\n",
              "[A*(sqrt(d2/d1) + d2/d1)*exp(b*(-sqrt(s/d1) + sqrt(s/d2)))/2 - exp(-b*sqrt(s/d1))/(2*sqrt(d1*s))],\n",
              "[ A*(-sqrt(d2/d1) + d2/d1)*exp(b*(sqrt(s/d1) + sqrt(s/d2)))/2 + exp(b*sqrt(s/d1))/(2*sqrt(d1*s))]])"
            ]
          },
          "execution_count": 48,
          "metadata": {},
          "output_type": "execute_result"
        }
      ],
      "source": [
        "C0"
      ]
    },
    {
      "cell_type": "code",
      "execution_count": null,
      "metadata": {
        "id": "30x8Qeqi8iZj",
        "outputId": "3e69beda-b879-49c5-b112-b7ec24d075af"
      },
      "outputs": [
        {
          "data": {
            "text/latex": [
              "$\\displaystyle \\left\\{\\frac{e^{- b \\sqrt{\\frac{s}{d_{1}}}} e^{b \\left(\\sqrt{\\frac{s}{d_{1}}} - \\sqrt{\\frac{s}{d_{2}}}\\right)}}{\\sqrt{d_{1} s} \\left(\\sqrt{\\frac{d_{2}}{d_{1}}} + \\frac{d_{2}}{d_{1}}\\right)}\\right\\}$"
            ],
            "text/plain": [
              "FiniteSet(exp(-b*sqrt(s/d1))*exp(b*(sqrt(s/d1) - sqrt(s/d2)))/(sqrt(d1*s)*(sqrt(d2/d1) + d2/d1)))"
            ]
          },
          "execution_count": 49,
          "metadata": {},
          "output_type": "execute_result"
        }
      ],
      "source": [
        "As = sym.solveset(C0[0],A)\n",
        "As"
      ]
    },
    {
      "cell_type": "code",
      "execution_count": null,
      "metadata": {
        "id": "leFL7C978iZj",
        "outputId": "d16f4620-2372-4c39-8a4f-63a18e7fe8c5"
      },
      "outputs": [
        {
          "data": {
            "text/latex": [
              "$\\displaystyle \\left[\\begin{matrix}\\left\\{\\frac{e^{- b \\sqrt{\\frac{s}{d_{1}}}} e^{b \\left(\\sqrt{\\frac{s}{d_{1}}} - \\sqrt{\\frac{s}{d_{2}}}\\right)}}{\\sqrt{d_{1} s} \\left(\\sqrt{\\frac{d_{2}}{d_{1}}} + \\frac{d_{2}}{d_{1}}\\right)}\\right\\}\\\\0\\end{matrix}\\right]$"
            ],
            "text/plain": [
              "Matrix([\n",
              "[FiniteSet(exp(-b*sqrt(s/d1))*exp(b*(sqrt(s/d1) - sqrt(s/d2)))/(sqrt(d1*s)*(sqrt(d2/d1) + d2/d1)))],\n",
              "[                                                                                                0]])"
            ]
          },
          "execution_count": 50,
          "metadata": {},
          "output_type": "execute_result"
        }
      ],
      "source": [
        "Cs2 = C2.subs(A,As)\n",
        "Cs2"
      ]
    },
    {
      "cell_type": "code",
      "execution_count": null,
      "metadata": {
        "id": "ZJMphjKU8iZk",
        "outputId": "282cb518-1838-400e-b906-b6f4dbfe35e9"
      },
      "outputs": [
        {
          "data": {
            "text/latex": [
              "$\\displaystyle \\left[\\begin{matrix}\\frac{\\left(\\sqrt{\\frac{d_{2}}{d_{1}}} + \\frac{d_{2}}{d_{1}}\\right) e^{b \\left(- \\sqrt{\\frac{s}{d_{1}}} + \\sqrt{\\frac{s}{d_{2}}}\\right)} \\left\\{\\frac{e^{- b \\sqrt{\\frac{s}{d_{1}}}} e^{b \\left(\\sqrt{\\frac{s}{d_{1}}} - \\sqrt{\\frac{s}{d_{2}}}\\right)}}{\\sqrt{d_{1} s} \\left(\\sqrt{\\frac{d_{2}}{d_{1}}} + \\frac{d_{2}}{d_{1}}\\right)}\\right\\}}{2} - \\frac{e^{- b \\sqrt{\\frac{s}{d_{1}}}}}{2 \\sqrt{d_{1} s}}\\\\\\frac{\\left(- \\sqrt{\\frac{d_{2}}{d_{1}}} + \\frac{d_{2}}{d_{1}}\\right) e^{b \\left(\\sqrt{\\frac{s}{d_{1}}} + \\sqrt{\\frac{s}{d_{2}}}\\right)} \\left\\{\\frac{e^{- b \\sqrt{\\frac{s}{d_{1}}}} e^{b \\left(\\sqrt{\\frac{s}{d_{1}}} - \\sqrt{\\frac{s}{d_{2}}}\\right)}}{\\sqrt{d_{1} s} \\left(\\sqrt{\\frac{d_{2}}{d_{1}}} + \\frac{d_{2}}{d_{1}}\\right)}\\right\\}}{2} + \\frac{e^{b \\sqrt{\\frac{s}{d_{1}}}}}{2 \\sqrt{d_{1} s}}\\end{matrix}\\right]$"
            ],
            "text/plain": [
              "Matrix([\n",
              "[(sqrt(d2/d1) + d2/d1)*exp(b*(-sqrt(s/d1) + sqrt(s/d2)))*FiniteSet(exp(-b*sqrt(s/d1))*exp(b*(sqrt(s/d1) - sqrt(s/d2)))/(sqrt(d1*s)*(sqrt(d2/d1) + d2/d1)))/2 - exp(-b*sqrt(s/d1))/(2*sqrt(d1*s))],\n",
              "[ (-sqrt(d2/d1) + d2/d1)*exp(b*(sqrt(s/d1) + sqrt(s/d2)))*FiniteSet(exp(-b*sqrt(s/d1))*exp(b*(sqrt(s/d1) - sqrt(s/d2)))/(sqrt(d1*s)*(sqrt(d2/d1) + d2/d1)))/2 + exp(b*sqrt(s/d1))/(2*sqrt(d1*s))]])"
            ]
          },
          "execution_count": 51,
          "metadata": {},
          "output_type": "execute_result"
        }
      ],
      "source": [
        "Cs0 = C0.subs(A,As) \n",
        "Cs0"
      ]
    },
    {
      "cell_type": "markdown",
      "metadata": {
        "id": "bpVi63Nr8iZk"
      },
      "source": [
        "# 2 layer  periodic solution\n"
      ]
    },
    {
      "cell_type": "code",
      "execution_count": null,
      "metadata": {
        "id": "rApeoD-58iZk",
        "outputId": "618705e8-61b5-47b4-9ef4-f357a9c8d50f"
      },
      "outputs": [
        {
          "data": {
            "text/latex": [
              "$\\displaystyle \\left[\\begin{matrix}A\\\\B\\end{matrix}\\right]$"
            ],
            "text/plain": [
              "Matrix([\n",
              "[A],\n",
              "[B]])"
            ]
          },
          "execution_count": 5,
          "metadata": {},
          "output_type": "execute_result"
        }
      ],
      "source": [
        "C1 = coef(A, B)\n",
        "C1"
      ]
    },
    {
      "cell_type": "code",
      "execution_count": null,
      "metadata": {
        "id": "x0UbmINf8iZk",
        "outputId": "d2986221-4d46-4b1b-b319-1f0c2774caed"
      },
      "outputs": [
        {
          "data": {
            "text/latex": [
              "$\\displaystyle \\left[\\begin{matrix}A \\left(\\frac{d_{1}}{2 d_{2}} + \\frac{\\sqrt{\\frac{d_{1}}{d_{2}}}}{2}\\right) + B \\left(\\frac{d_{1}}{2 d_{2}} - \\frac{\\sqrt{\\frac{d_{1}}{d_{2}}}}{2}\\right) - \\frac{1}{2 \\sqrt{d_{1} s}}\\\\A \\left(\\frac{d_{1}}{2 d_{2}} - \\frac{\\sqrt{\\frac{d_{1}}{d_{2}}}}{2}\\right) + B \\left(\\frac{d_{1}}{2 d_{2}} + \\frac{\\sqrt{\\frac{d_{1}}{d_{2}}}}{2}\\right) + \\frac{1}{2 \\sqrt{d_{1} s}}\\end{matrix}\\right]$"
            ],
            "text/plain": [
              "Matrix([\n",
              "[A*(d1/(2*d2) + sqrt(d1/d2)/2) + B*(d1/(2*d2) - sqrt(d1/d2)/2) - 1/(2*sqrt(d1*s))],\n",
              "[A*(d1/(2*d2) - sqrt(d1/d2)/2) + B*(d1/(2*d2) + sqrt(d1/d2)/2) + 1/(2*sqrt(d1*s))]])"
            ]
          },
          "execution_count": 6,
          "metadata": {},
          "output_type": "execute_result"
        }
      ],
      "source": [
        "C2 = sym.MatMul(Diff(d1,d2,0,s),C1) + src(d1, 0, s)\n",
        "C2"
      ]
    },
    {
      "cell_type": "code",
      "execution_count": null,
      "metadata": {
        "id": "s1RVIGIh8iZl",
        "outputId": "8e52227e-b486-4865-a512-7076f559581a"
      },
      "outputs": [
        {
          "data": {
            "text/latex": [
              "$\\displaystyle \\left[\\begin{matrix}\\frac{A \\left(\\frac{d_{1}}{d_{2}} + \\sqrt{\\frac{d_{1}}{d_{2}}}\\right) e^{- L \\left(\\sqrt{\\frac{s}{d_{1}}} + \\sqrt{\\frac{s}{d_{2}}}\\right)}}{2} + \\frac{B \\left(\\frac{d_{1}}{d_{2}} - \\sqrt{\\frac{d_{1}}{d_{2}}}\\right) e^{L \\left(\\sqrt{\\frac{s}{d_{1}}} - \\sqrt{\\frac{s}{d_{2}}}\\right)}}{2}\\\\\\frac{A \\left(\\frac{d_{1}}{d_{2}} - \\sqrt{\\frac{d_{1}}{d_{2}}}\\right) e^{L \\left(- \\sqrt{\\frac{s}{d_{1}}} + \\sqrt{\\frac{s}{d_{2}}}\\right)}}{2} + \\frac{B \\left(\\frac{d_{1}}{d_{2}} + \\sqrt{\\frac{d_{1}}{d_{2}}}\\right) e^{L \\left(\\sqrt{\\frac{s}{d_{1}}} + \\sqrt{\\frac{s}{d_{2}}}\\right)}}{2}\\end{matrix}\\right]$"
            ],
            "text/plain": [
              "Matrix([\n",
              "[A*(d1/d2 + sqrt(d1/d2))*exp(-L*(sqrt(s/d1) + sqrt(s/d2)))/2 + B*(d1/d2 - sqrt(d1/d2))*exp(L*(sqrt(s/d1) - sqrt(s/d2)))/2],\n",
              "[A*(d1/d2 - sqrt(d1/d2))*exp(L*(-sqrt(s/d1) + sqrt(s/d2)))/2 + B*(d1/d2 + sqrt(d1/d2))*exp(L*(sqrt(s/d1) + sqrt(s/d2)))/2]])"
            ]
          },
          "execution_count": 7,
          "metadata": {},
          "output_type": "execute_result"
        }
      ],
      "source": [
        "Cp =  sym.MatMul(perdc(d1, d2, L, s),C1).doit()\n",
        "Cp"
      ]
    },
    {
      "cell_type": "code",
      "execution_count": null,
      "metadata": {
        "id": "bO-J8pPf8iZl",
        "outputId": "cd52057e-8b68-4ee1-f20c-52baf10f95c4"
      },
      "outputs": [
        {
          "data": {
            "text/latex": [
              "$\\displaystyle A \\left(\\frac{d_{1}}{2 d_{2}} - \\frac{\\sqrt{\\frac{d_{1}}{d_{2}}}}{2}\\right) - \\frac{A \\left(\\frac{d_{1}}{d_{2}} - \\sqrt{\\frac{d_{1}}{d_{2}}}\\right) e^{L \\left(- \\sqrt{\\frac{s}{d_{1}}} + \\sqrt{\\frac{s}{d_{2}}}\\right)}}{2} + B \\left(\\frac{d_{1}}{2 d_{2}} + \\frac{\\sqrt{\\frac{d_{1}}{d_{2}}}}{2}\\right) - \\frac{B \\left(\\frac{d_{1}}{d_{2}} + \\sqrt{\\frac{d_{1}}{d_{2}}}\\right) e^{L \\left(\\sqrt{\\frac{s}{d_{1}}} + \\sqrt{\\frac{s}{d_{2}}}\\right)}}{2} + \\frac{1}{2 \\sqrt{d_{1} s}}$"
            ],
            "text/plain": [
              "A*(d1/(2*d2) - sqrt(d1/d2)/2) - A*(d1/d2 - sqrt(d1/d2))*exp(L*(-sqrt(s/d1) + sqrt(s/d2)))/2 + B*(d1/(2*d2) + sqrt(d1/d2)/2) - B*(d1/d2 + sqrt(d1/d2))*exp(L*(sqrt(s/d1) + sqrt(s/d2)))/2 + 1/(2*sqrt(d1*s))"
            ]
          },
          "execution_count": 8,
          "metadata": {},
          "output_type": "execute_result"
        }
      ],
      "source": [
        "f1 = C2[0] - Cp[0]\n",
        "f2 = C2[1] - Cp[1]\n",
        "f2"
      ]
    },
    {
      "cell_type": "code",
      "execution_count": null,
      "metadata": {
        "id": "lsv7O3cU8iZl",
        "outputId": "4af70ab9-dcf9-4e3c-adb7-1db5285e9444"
      },
      "outputs": [
        {
          "data": {
            "text/latex": [
              "$\\displaystyle A \\left(\\frac{d_{1}}{2 d_{2}} + \\frac{\\sqrt{\\frac{d_{1}}{d_{2}}}}{2}\\right) - \\frac{A \\left(\\frac{d_{1}}{d_{2}} + \\sqrt{\\frac{d_{1}}{d_{2}}}\\right) e^{- L \\left(\\sqrt{\\frac{s}{d_{1}}} + \\sqrt{\\frac{s}{d_{2}}}\\right)}}{2} + B \\left(\\frac{d_{1}}{2 d_{2}} - \\frac{\\sqrt{\\frac{d_{1}}{d_{2}}}}{2}\\right) - \\frac{B \\left(\\frac{d_{1}}{d_{2}} - \\sqrt{\\frac{d_{1}}{d_{2}}}\\right) e^{L \\left(\\sqrt{\\frac{s}{d_{1}}} - \\sqrt{\\frac{s}{d_{2}}}\\right)}}{2} - \\frac{1}{2 \\sqrt{d_{1} s}}$"
            ],
            "text/plain": [
              "A*(d1/(2*d2) + sqrt(d1/d2)/2) - A*(d1/d2 + sqrt(d1/d2))*exp(-L*(sqrt(s/d1) + sqrt(s/d2)))/2 + B*(d1/(2*d2) - sqrt(d1/d2)/2) - B*(d1/d2 - sqrt(d1/d2))*exp(L*(sqrt(s/d1) - sqrt(s/d2)))/2 - 1/(2*sqrt(d1*s))"
            ]
          },
          "execution_count": 10,
          "metadata": {},
          "output_type": "execute_result"
        }
      ],
      "source": [
        "f1"
      ]
    },
    {
      "cell_type": "code",
      "execution_count": null,
      "metadata": {
        "id": "7CF5poqg8iZl"
      },
      "outputs": [],
      "source": [
        "from sympy.solvers.solveset import linsolve"
      ]
    },
    {
      "cell_type": "code",
      "execution_count": null,
      "metadata": {
        "id": "s7Zsl_5l8iZm"
      },
      "outputs": [],
      "source": [
        "Cs = linsolve([f1,f2],(A,B))"
      ]
    },
    {
      "cell_type": "code",
      "execution_count": null,
      "metadata": {
        "id": "ogs1IflA8iZm",
        "outputId": "722d2804-cdca-4123-bd7f-2f56abb6df70"
      },
      "outputs": [
        {
          "data": {
            "text/latex": [
              "$\\displaystyle \\left\\{\\left( \\frac{d_{2} \\left(d_{1} e^{L \\sqrt{\\frac{s}{d_{1}}}} - 2 d_{1} e^{L \\sqrt{\\frac{s}{d_{2}}}} + d_{1} e^{L \\left(\\sqrt{\\frac{s}{d_{1}}} + 2 \\sqrt{\\frac{s}{d_{2}}}\\right)} - 2 d_{2} \\sqrt{\\frac{d_{1}}{d_{2}}} e^{L \\sqrt{\\frac{s}{d_{2}}}} + 2 d_{2} \\sqrt{\\frac{d_{1}}{d_{2}}} e^{L \\left(\\sqrt{\\frac{s}{d_{1}}} + 2 \\sqrt{\\frac{s}{d_{2}}}\\right)} - d_{2} e^{L \\sqrt{\\frac{s}{d_{1}}}} + d_{2} e^{L \\left(\\sqrt{\\frac{s}{d_{1}}} + 2 \\sqrt{\\frac{s}{d_{2}}}\\right)}\\right) e^{L \\sqrt{\\frac{s}{d_{1}}}}}{\\sqrt{d_{1} s} \\left(- d_{1}^{2} e^{2 L \\sqrt{\\frac{s}{d_{1}}}} - d_{1}^{2} e^{2 L \\sqrt{\\frac{s}{d_{2}}}} + d_{1}^{2} e^{2 L \\left(\\sqrt{\\frac{s}{d_{1}}} + \\sqrt{\\frac{s}{d_{2}}}\\right)} + d_{1}^{2} + d_{1} d_{2} \\sqrt{\\frac{d_{1}}{d_{2}}} e^{2 L \\sqrt{\\frac{s}{d_{1}}}} + d_{1} d_{2} \\sqrt{\\frac{d_{1}}{d_{2}}} e^{2 L \\sqrt{\\frac{s}{d_{2}}}} + 3 d_{1} d_{2} \\sqrt{\\frac{d_{1}}{d_{2}}} e^{2 L \\left(\\sqrt{\\frac{s}{d_{1}}} + \\sqrt{\\frac{s}{d_{2}}}\\right)} - 8 d_{1} d_{2} \\sqrt{\\frac{d_{1}}{d_{2}}} e^{L \\left(\\sqrt{\\frac{s}{d_{1}}} + \\sqrt{\\frac{s}{d_{2}}}\\right)} + 3 d_{1} d_{2} \\sqrt{\\frac{d_{1}}{d_{2}}} + d_{1} d_{2} e^{2 L \\sqrt{\\frac{s}{d_{1}}}} + d_{1} d_{2} e^{2 L \\sqrt{\\frac{s}{d_{2}}}} + 3 d_{1} d_{2} e^{2 L \\left(\\sqrt{\\frac{s}{d_{1}}} + \\sqrt{\\frac{s}{d_{2}}}\\right)} - 8 d_{1} d_{2} e^{L \\left(\\sqrt{\\frac{s}{d_{1}}} + \\sqrt{\\frac{s}{d_{2}}}\\right)} + 3 d_{1} d_{2} - d_{2}^{2} \\sqrt{\\frac{d_{1}}{d_{2}}} e^{2 L \\sqrt{\\frac{s}{d_{1}}}} - d_{2}^{2} \\sqrt{\\frac{d_{1}}{d_{2}}} e^{2 L \\sqrt{\\frac{s}{d_{2}}}} + d_{2}^{2} \\sqrt{\\frac{d_{1}}{d_{2}}} e^{2 L \\left(\\sqrt{\\frac{s}{d_{1}}} + \\sqrt{\\frac{s}{d_{2}}}\\right)} + d_{2}^{2} \\sqrt{\\frac{d_{1}}{d_{2}}}\\right)}, \\  \\frac{d_{2} \\left(- d_{1} e^{2 L \\sqrt{\\frac{s}{d_{2}}}} + 2 d_{1} e^{L \\left(\\sqrt{\\frac{s}{d_{1}}} + \\sqrt{\\frac{s}{d_{2}}}\\right)} - d_{1} + d_{2} \\sqrt{\\frac{d_{1}}{d_{2}}} e^{2 L \\sqrt{\\frac{s}{d_{2}}}} - d_{2} \\sqrt{\\frac{d_{1}}{d_{2}}}\\right)}{d_{1} \\sqrt{d_{1} s} \\left(- d_{1} e^{2 L \\sqrt{\\frac{s}{d_{1}}}} - d_{1} e^{2 L \\sqrt{\\frac{s}{d_{2}}}} + d_{1} e^{2 L \\left(\\sqrt{\\frac{s}{d_{1}}} + \\sqrt{\\frac{s}{d_{2}}}\\right)} + d_{1} + 2 d_{2} \\sqrt{\\frac{d_{1}}{d_{2}}} e^{2 L \\sqrt{\\frac{s}{d_{1}}}} + 2 d_{2} \\sqrt{\\frac{d_{1}}{d_{2}}} e^{2 L \\sqrt{\\frac{s}{d_{2}}}} + 2 d_{2} \\sqrt{\\frac{d_{1}}{d_{2}}} e^{2 L \\left(\\sqrt{\\frac{s}{d_{1}}} + \\sqrt{\\frac{s}{d_{2}}}\\right)} - 8 d_{2} \\sqrt{\\frac{d_{1}}{d_{2}}} e^{L \\left(\\sqrt{\\frac{s}{d_{1}}} + \\sqrt{\\frac{s}{d_{2}}}\\right)} + 2 d_{2} \\sqrt{\\frac{d_{1}}{d_{2}}} - d_{2} e^{2 L \\sqrt{\\frac{s}{d_{1}}}} - d_{2} e^{2 L \\sqrt{\\frac{s}{d_{2}}}} + d_{2} e^{2 L \\left(\\sqrt{\\frac{s}{d_{1}}} + \\sqrt{\\frac{s}{d_{2}}}\\right)} + d_{2}\\right)}\\right)\\right\\}$"
            ],
            "text/plain": [
              "FiniteSet((d2*(d1*exp(L*sqrt(s/d1)) - 2*d1*exp(L*sqrt(s/d2)) + d1*exp(L*(sqrt(s/d1) + 2*sqrt(s/d2))) - 2*d2*sqrt(d1/d2)*exp(L*sqrt(s/d2)) + 2*d2*sqrt(d1/d2)*exp(L*(sqrt(s/d1) + 2*sqrt(s/d2))) - d2*exp(L*sqrt(s/d1)) + d2*exp(L*(sqrt(s/d1) + 2*sqrt(s/d2))))*exp(L*sqrt(s/d1))/(sqrt(d1*s)*(-d1**2*exp(2*L*sqrt(s/d1)) - d1**2*exp(2*L*sqrt(s/d2)) + d1**2*exp(2*L*(sqrt(s/d1) + sqrt(s/d2))) + d1**2 + d1*d2*sqrt(d1/d2)*exp(2*L*sqrt(s/d1)) + d1*d2*sqrt(d1/d2)*exp(2*L*sqrt(s/d2)) + 3*d1*d2*sqrt(d1/d2)*exp(2*L*(sqrt(s/d1) + sqrt(s/d2))) - 8*d1*d2*sqrt(d1/d2)*exp(L*(sqrt(s/d1) + sqrt(s/d2))) + 3*d1*d2*sqrt(d1/d2) + d1*d2*exp(2*L*sqrt(s/d1)) + d1*d2*exp(2*L*sqrt(s/d2)) + 3*d1*d2*exp(2*L*(sqrt(s/d1) + sqrt(s/d2))) - 8*d1*d2*exp(L*(sqrt(s/d1) + sqrt(s/d2))) + 3*d1*d2 - d2**2*sqrt(d1/d2)*exp(2*L*sqrt(s/d1)) - d2**2*sqrt(d1/d2)*exp(2*L*sqrt(s/d2)) + d2**2*sqrt(d1/d2)*exp(2*L*(sqrt(s/d1) + sqrt(s/d2))) + d2**2*sqrt(d1/d2))), d2*(-d1*exp(2*L*sqrt(s/d2)) + 2*d1*exp(L*(sqrt(s/d1) + sqrt(s/d2))) - d1 + d2*sqrt(d1/d2)*exp(2*L*sqrt(s/d2)) - d2*sqrt(d1/d2))/(d1*sqrt(d1*s)*(-d1*exp(2*L*sqrt(s/d1)) - d1*exp(2*L*sqrt(s/d2)) + d1*exp(2*L*(sqrt(s/d1) + sqrt(s/d2))) + d1 + 2*d2*sqrt(d1/d2)*exp(2*L*sqrt(s/d1)) + 2*d2*sqrt(d1/d2)*exp(2*L*sqrt(s/d2)) + 2*d2*sqrt(d1/d2)*exp(2*L*(sqrt(s/d1) + sqrt(s/d2))) - 8*d2*sqrt(d1/d2)*exp(L*(sqrt(s/d1) + sqrt(s/d2))) + 2*d2*sqrt(d1/d2) - d2*exp(2*L*sqrt(s/d1)) - d2*exp(2*L*sqrt(s/d2)) + d2*exp(2*L*(sqrt(s/d1) + sqrt(s/d2))) + d2))))"
            ]
          },
          "execution_count": 27,
          "metadata": {},
          "output_type": "execute_result"
        }
      ],
      "source": [
        "Cs"
      ]
    },
    {
      "cell_type": "code",
      "execution_count": null,
      "metadata": {
        "id": "dLlMpTyX8iZm"
      },
      "outputs": [],
      "source": [
        ""
      ]
    },
    {
      "cell_type": "code",
      "execution_count": null,
      "metadata": {
        "id": "5weHbOy68iZm",
        "outputId": "e6c91556-edf8-4b5b-d63b-13ab8d293a38"
      },
      "outputs": [
        {
          "name": "stdout",
          "output_type": "stream",
          "text": [
            "1\n"
          ]
        }
      ],
      "source": [
        ""
      ]
    },
    {
      "cell_type": "code",
      "execution_count": null,
      "metadata": {
        "id": "kVhr4rIu8iZm"
      },
      "outputs": [],
      "source": [
        ""
      ]
    },
    {
      "cell_type": "markdown",
      "metadata": {
        "id": "GqW03Xbc8iZm"
      },
      "source": [
        "# 3 Layer diffusion \n",
        "## Free boundary condition\n",
        "### $d_2,d_0,d_1$\n",
        "### region 1 :$x\\in[-\\infty,0]$ : $d_1$\n",
        "### region 2 :$x\\in[0,a]$ : $d_0$\n",
        "### region 3 :$x\\in[a,\\infty]$ : $d_2$\n",
        "### source at $x=0$\n",
        "## $g_1(x,s)=A_1e^{\\sqrt{\\frac{s}{d_1}}}$\n",
        "## $g_2(x,s)=A_2e^{\\sqrt{\\frac{s}{d_0}}} +B_2e^{-\\sqrt{\\frac{s}{d_0}}}$\n",
        "## $g_3(x,s) = B_3e^{-\\sqrt{\\frac{s}{d_2}}}$"
      ]
    },
    {
      "cell_type": "code",
      "execution_count": null,
      "metadata": {
        "id": "QBbOeQFG8iZn"
      },
      "outputs": [],
      "source": [
        ""
      ]
    },
    {
      "cell_type": "code",
      "execution_count": null,
      "metadata": {
        "id": "2RhA4DVy8iZn",
        "outputId": "ad6fd94a-213c-42ef-83e9-b4ca11821e6a"
      },
      "outputs": [
        {
          "data": {
            "text/latex": [
              "$\\displaystyle \\left[\\begin{matrix}\\frac{\\left(A \\left(- \\frac{\\sqrt{\\frac{d_{1}}{d_{0}}}}{2} + \\frac{d_{1}}{2 d_{0}}\\right) + \\frac{1}{2 \\sqrt{d_{1} s}}\\right) \\left(\\frac{d_{0}}{d_{2}} - \\sqrt{\\frac{d_{0}}{d_{2}}}\\right) e^{- a \\left(\\sqrt{\\frac{s}{d_{0}}} + \\sqrt{\\frac{s}{d_{2}}}\\right)}}{2} + \\frac{\\left(A \\left(\\frac{\\sqrt{\\frac{d_{1}}{d_{0}}}}{2} + \\frac{d_{1}}{2 d_{0}}\\right) - \\frac{1}{2 \\sqrt{d_{1} s}}\\right) \\left(\\frac{d_{0}}{d_{2}} + \\sqrt{\\frac{d_{0}}{d_{2}}}\\right) e^{a \\left(\\sqrt{\\frac{s}{d_{0}}} - \\sqrt{\\frac{s}{d_{2}}}\\right)}}{2}\\\\\\frac{\\left(A \\left(- \\frac{\\sqrt{\\frac{d_{1}}{d_{0}}}}{2} + \\frac{d_{1}}{2 d_{0}}\\right) + \\frac{1}{2 \\sqrt{d_{1} s}}\\right) \\left(\\frac{d_{0}}{d_{2}} + \\sqrt{\\frac{d_{0}}{d_{2}}}\\right) e^{- a \\left(\\sqrt{\\frac{s}{d_{0}}} - \\sqrt{\\frac{s}{d_{2}}}\\right)}}{2} + \\frac{\\left(A \\left(\\frac{\\sqrt{\\frac{d_{1}}{d_{0}}}}{2} + \\frac{d_{1}}{2 d_{0}}\\right) - \\frac{1}{2 \\sqrt{d_{1} s}}\\right) \\left(\\frac{d_{0}}{d_{2}} - \\sqrt{\\frac{d_{0}}{d_{2}}}\\right) e^{a \\left(\\sqrt{\\frac{s}{d_{0}}} + \\sqrt{\\frac{s}{d_{2}}}\\right)}}{2}\\end{matrix}\\right]$"
            ],
            "text/plain": [
              "Matrix([\n",
              "[(A*(-sqrt(d1/d0)/2 + d1/(2*d0)) + 1/(2*sqrt(d1*s)))*(d0/d2 - sqrt(d0/d2))*exp(-a*(sqrt(s/d0) + sqrt(s/d2)))/2 + (A*(sqrt(d1/d0)/2 + d1/(2*d0)) - 1/(2*sqrt(d1*s)))*(d0/d2 + sqrt(d0/d2))*exp(a*(sqrt(s/d0) - sqrt(s/d2)))/2],\n",
              "[(A*(-sqrt(d1/d0)/2 + d1/(2*d0)) + 1/(2*sqrt(d1*s)))*(d0/d2 + sqrt(d0/d2))*exp(-a*(sqrt(s/d0) - sqrt(s/d2)))/2 + (A*(sqrt(d1/d0)/2 + d1/(2*d0)) - 1/(2*sqrt(d1*s)))*(d0/d2 - sqrt(d0/d2))*exp(a*(sqrt(s/d0) + sqrt(s/d2)))/2]])"
            ]
          },
          "execution_count": 4,
          "metadata": {},
          "output_type": "execute_result"
        }
      ],
      "source": [
        "C1 = coef(A, 0)\n",
        "C2 = sym.MatMul(Diff(d1,d0,0,s),C1).doit()+ src(d1, 0, s)\n",
        "C3 = sym.MatMul(Diff(d0,d2,a,s),C2).doit()\n",
        "C3"
      ]
    },
    {
      "cell_type": "code",
      "execution_count": null,
      "metadata": {
        "id": "iH-RoOIw8iZn",
        "outputId": "b67c2370-ec28-47ca-bf0a-abc20a808dc4"
      },
      "outputs": [
        {
          "data": {
            "text/latex": [
              "$\\displaystyle \\left[\\begin{matrix}A\\\\0\\end{matrix}\\right]$"
            ],
            "text/plain": [
              "Matrix([\n",
              "[A],\n",
              "[0]])"
            ]
          },
          "execution_count": 5,
          "metadata": {},
          "output_type": "execute_result"
        }
      ],
      "source": [
        "C1"
      ]
    },
    {
      "cell_type": "code",
      "execution_count": null,
      "metadata": {
        "id": "sp76hHTm8iZn",
        "outputId": "ab45737a-8266-41d7-8039-e98cef52da01"
      },
      "outputs": [
        {
          "data": {
            "text/latex": [
              "$\\displaystyle \\left[\\begin{matrix}A \\left(\\frac{\\sqrt{\\frac{d_{1}}{d_{0}}}}{2} + \\frac{d_{1}}{2 d_{0}}\\right) - \\frac{1}{2 \\sqrt{d_{1} s}}\\\\A \\left(- \\frac{\\sqrt{\\frac{d_{1}}{d_{0}}}}{2} + \\frac{d_{1}}{2 d_{0}}\\right) + \\frac{1}{2 \\sqrt{d_{1} s}}\\end{matrix}\\right]$"
            ],
            "text/plain": [
              "Matrix([\n",
              "[ A*(sqrt(d1/d0)/2 + d1/(2*d0)) - 1/(2*sqrt(d1*s))],\n",
              "[A*(-sqrt(d1/d0)/2 + d1/(2*d0)) + 1/(2*sqrt(d1*s))]])"
            ]
          },
          "execution_count": 6,
          "metadata": {},
          "output_type": "execute_result"
        }
      ],
      "source": [
        "C2"
      ]
    },
    {
      "cell_type": "code",
      "execution_count": null,
      "metadata": {
        "id": "0mwdTNxu8iZo",
        "outputId": "ea7a6179-d205-4075-dbd2-a8de96ab4415"
      },
      "outputs": [
        {
          "data": {
            "text/latex": [
              "$\\displaystyle \\left[\\begin{matrix}\\frac{\\left(A \\left(- \\frac{\\sqrt{\\frac{d_{1}}{d_{0}}}}{2} + \\frac{d_{1}}{2 d_{0}}\\right) + \\frac{1}{2 \\sqrt{d_{1} s}}\\right) \\left(\\frac{d_{0}}{d_{2}} - \\sqrt{\\frac{d_{0}}{d_{2}}}\\right) e^{- a \\left(\\sqrt{\\frac{s}{d_{0}}} + \\sqrt{\\frac{s}{d_{2}}}\\right)}}{2} + \\frac{\\left(A \\left(\\frac{\\sqrt{\\frac{d_{1}}{d_{0}}}}{2} + \\frac{d_{1}}{2 d_{0}}\\right) - \\frac{1}{2 \\sqrt{d_{1} s}}\\right) \\left(\\frac{d_{0}}{d_{2}} + \\sqrt{\\frac{d_{0}}{d_{2}}}\\right) e^{a \\left(\\sqrt{\\frac{s}{d_{0}}} - \\sqrt{\\frac{s}{d_{2}}}\\right)}}{2}\\\\\\frac{\\left(A \\left(- \\frac{\\sqrt{\\frac{d_{1}}{d_{0}}}}{2} + \\frac{d_{1}}{2 d_{0}}\\right) + \\frac{1}{2 \\sqrt{d_{1} s}}\\right) \\left(\\frac{d_{0}}{d_{2}} + \\sqrt{\\frac{d_{0}}{d_{2}}}\\right) e^{- a \\left(\\sqrt{\\frac{s}{d_{0}}} - \\sqrt{\\frac{s}{d_{2}}}\\right)}}{2} + \\frac{\\left(A \\left(\\frac{\\sqrt{\\frac{d_{1}}{d_{0}}}}{2} + \\frac{d_{1}}{2 d_{0}}\\right) - \\frac{1}{2 \\sqrt{d_{1} s}}\\right) \\left(\\frac{d_{0}}{d_{2}} - \\sqrt{\\frac{d_{0}}{d_{2}}}\\right) e^{a \\left(\\sqrt{\\frac{s}{d_{0}}} + \\sqrt{\\frac{s}{d_{2}}}\\right)}}{2}\\end{matrix}\\right]$"
            ],
            "text/plain": [
              "Matrix([\n",
              "[(A*(-sqrt(d1/d0)/2 + d1/(2*d0)) + 1/(2*sqrt(d1*s)))*(d0/d2 - sqrt(d0/d2))*exp(-a*(sqrt(s/d0) + sqrt(s/d2)))/2 + (A*(sqrt(d1/d0)/2 + d1/(2*d0)) - 1/(2*sqrt(d1*s)))*(d0/d2 + sqrt(d0/d2))*exp(a*(sqrt(s/d0) - sqrt(s/d2)))/2],\n",
              "[(A*(-sqrt(d1/d0)/2 + d1/(2*d0)) + 1/(2*sqrt(d1*s)))*(d0/d2 + sqrt(d0/d2))*exp(-a*(sqrt(s/d0) - sqrt(s/d2)))/2 + (A*(sqrt(d1/d0)/2 + d1/(2*d0)) - 1/(2*sqrt(d1*s)))*(d0/d2 - sqrt(d0/d2))*exp(a*(sqrt(s/d0) + sqrt(s/d2)))/2]])"
            ]
          },
          "execution_count": 7,
          "metadata": {},
          "output_type": "execute_result"
        }
      ],
      "source": [
        "C3"
      ]
    },
    {
      "cell_type": "code",
      "execution_count": null,
      "metadata": {
        "id": "nj5uP99N8iZo",
        "outputId": "63f04b9a-d8af-40b5-e639-2e014d77ab2c"
      },
      "outputs": [
        {
          "data": {
            "text/latex": [
              "$\\displaystyle \\left\\{\\frac{d_{0} \\left(d_{0} e^{2 a \\sqrt{\\frac{s}{d_{0}}}} - d_{0} + d_{2} \\sqrt{\\frac{d_{0}}{d_{2}}} e^{2 a \\sqrt{\\frac{s}{d_{0}}}} + d_{2} \\sqrt{\\frac{d_{0}}{d_{2}}}\\right)}{\\sqrt{d_{1} s} \\left(d_{0}^{2} \\sqrt{\\frac{d_{1}}{d_{0}}} e^{2 a \\sqrt{\\frac{s}{d_{0}}}} - d_{0}^{2} \\sqrt{\\frac{d_{1}}{d_{0}}} + d_{0} d_{1} e^{2 a \\sqrt{\\frac{s}{d_{0}}}} + d_{0} d_{1} + d_{0} d_{2} \\sqrt{\\frac{d_{1}}{d_{0}}} \\sqrt{\\frac{d_{0}}{d_{2}}} e^{2 a \\sqrt{\\frac{s}{d_{0}}}} + d_{0} d_{2} \\sqrt{\\frac{d_{1}}{d_{0}}} \\sqrt{\\frac{d_{0}}{d_{2}}} + d_{1} d_{2} \\sqrt{\\frac{d_{0}}{d_{2}}} e^{2 a \\sqrt{\\frac{s}{d_{0}}}} - d_{1} d_{2} \\sqrt{\\frac{d_{0}}{d_{2}}}\\right)}\\right\\}$"
            ],
            "text/plain": [
              "FiniteSet(d0*(d0*exp(2*a*sqrt(s/d0)) - d0 + d2*sqrt(d0/d2)*exp(2*a*sqrt(s/d0)) + d2*sqrt(d0/d2))/(sqrt(d1*s)*(d0**2*sqrt(d1/d0)*exp(2*a*sqrt(s/d0)) - d0**2*sqrt(d1/d0) + d0*d1*exp(2*a*sqrt(s/d0)) + d0*d1 + d0*d2*sqrt(d1/d0)*sqrt(d0/d2)*exp(2*a*sqrt(s/d0)) + d0*d2*sqrt(d1/d0)*sqrt(d0/d2) + d1*d2*sqrt(d0/d2)*exp(2*a*sqrt(s/d0)) - d1*d2*sqrt(d0/d2))))"
            ]
          },
          "execution_count": 8,
          "metadata": {},
          "output_type": "execute_result"
        }
      ],
      "source": [
        "As = sym.solveset(C3[0],A)\n",
        "As"
      ]
    },
    {
      "cell_type": "code",
      "execution_count": null,
      "metadata": {
        "id": "ExFAFoAA8iZo"
      },
      "outputs": [],
      "source": [
        ""
      ]
    },
    {
      "cell_type": "code",
      "execution_count": null,
      "metadata": {
        "id": "8rtp01_58iZo",
        "outputId": "e00477a8-917d-4137-8312-d0ead71b947f"
      },
      "outputs": [
        {
          "name": "stdout",
          "output_type": "stream",
          "text": [
            "3032.0724999999998\n",
            "1230.7749999999999\n"
          ]
        }
      ],
      "source": [
        "print((38.37+37.37)*(35+30)/4+(28.37+37.37)*(26+31)/4+(41+32)*(28.37+19)/4)\n",
        "print((38.37+37.37)*(35+30)/4)"
      ]
    },
    {
      "cell_type": "code",
      "execution_count": null,
      "metadata": {
        "id": "I19JfSCj8iZo",
        "outputId": "37fea8fb-2695-4a2b-8fca-3153d0f65a5e"
      },
      "outputs": [
        {
          "data": {
            "text/plain": [
              "2992.034"
            ]
          },
          "execution_count": 5,
          "metadata": {},
          "output_type": "execute_result"
        }
      ],
      "source": [
        "1227.944+922.36+841.73"
      ]
    },
    {
      "cell_type": "code",
      "execution_count": null,
      "metadata": {
        "id": "6_HbFKsH8iZp",
        "outputId": "afc41b6d-54cb-46f3-e366-e4c848e2b21a"
      },
      "outputs": [
        {
          "data": {
            "text/latex": [
              "$\\displaystyle \\left[\\begin{matrix}\\frac{\\left(A \\left(- \\frac{\\sqrt{\\frac{d_{1}}{d_{0}}}}{2} + \\frac{d_{1}}{2 d_{0}}\\right) + \\frac{1}{2 \\sqrt{d_{1} s}}\\right) \\left(\\frac{d_{0}}{d_{2}} - \\sqrt{\\frac{d_{0}}{d_{2}}}\\right) e^{- a \\left(\\sqrt{\\frac{s}{d_{0}}} + \\sqrt{\\frac{s}{d_{2}}}\\right)}}{2} + \\frac{\\left(A \\left(\\frac{\\sqrt{\\frac{d_{1}}{d_{0}}}}{2} + \\frac{d_{1}}{2 d_{0}}\\right) - \\frac{1}{2 \\sqrt{d_{1} s}}\\right) \\left(\\frac{d_{0}}{d_{2}} + \\sqrt{\\frac{d_{0}}{d_{2}}}\\right) e^{a \\left(\\sqrt{\\frac{s}{d_{0}}} - \\sqrt{\\frac{s}{d_{2}}}\\right)}}{2}\\\\\\frac{\\left(A \\left(- \\frac{\\sqrt{\\frac{d_{1}}{d_{0}}}}{2} + \\frac{d_{1}}{2 d_{0}}\\right) + \\frac{1}{2 \\sqrt{d_{1} s}}\\right) \\left(\\frac{d_{0}}{d_{2}} + \\sqrt{\\frac{d_{0}}{d_{2}}}\\right) e^{- a \\left(\\sqrt{\\frac{s}{d_{0}}} - \\sqrt{\\frac{s}{d_{2}}}\\right)}}{2} + \\frac{\\left(A \\left(\\frac{\\sqrt{\\frac{d_{1}}{d_{0}}}}{2} + \\frac{d_{1}}{2 d_{0}}\\right) - \\frac{1}{2 \\sqrt{d_{1} s}}\\right) \\left(\\frac{d_{0}}{d_{2}} - \\sqrt{\\frac{d_{0}}{d_{2}}}\\right) e^{a \\left(\\sqrt{\\frac{s}{d_{0}}} + \\sqrt{\\frac{s}{d_{2}}}\\right)}}{2}\\end{matrix}\\right]$"
            ],
            "text/plain": [
              "Matrix([\n",
              "[(A*(-sqrt(d1/d0)/2 + d1/(2*d0)) + 1/(2*sqrt(d1*s)))*(d0/d2 - sqrt(d0/d2))*exp(-a*(sqrt(s/d0) + sqrt(s/d2)))/2 + (A*(sqrt(d1/d0)/2 + d1/(2*d0)) - 1/(2*sqrt(d1*s)))*(d0/d2 + sqrt(d0/d2))*exp(a*(sqrt(s/d0) - sqrt(s/d2)))/2],\n",
              "[(A*(-sqrt(d1/d0)/2 + d1/(2*d0)) + 1/(2*sqrt(d1*s)))*(d0/d2 + sqrt(d0/d2))*exp(-a*(sqrt(s/d0) - sqrt(s/d2)))/2 + (A*(sqrt(d1/d0)/2 + d1/(2*d0)) - 1/(2*sqrt(d1*s)))*(d0/d2 - sqrt(d0/d2))*exp(a*(sqrt(s/d0) + sqrt(s/d2)))/2]])"
            ]
          },
          "execution_count": 28,
          "metadata": {},
          "output_type": "execute_result"
        }
      ],
      "source": [
        "C3"
      ]
    },
    {
      "cell_type": "code",
      "execution_count": null,
      "metadata": {
        "id": "5NXM6Ydx8iZp",
        "outputId": "c6062a86-5eff-4e9c-a5be-4ca04fa1286f"
      },
      "outputs": [
        {
          "data": {
            "text/latex": [
              "$\\displaystyle k_{1}^{2}$"
            ],
            "text/plain": [
              "k1**2"
            ]
          },
          "execution_count": 75,
          "metadata": {},
          "output_type": "execute_result"
        }
      ],
      "source": [
        "k1 = sym.Symbol('k1')\n",
        "k0 = sym.Symbol('k0')\n",
        "k2 = sym.Symbol('k2')\n",
        "p = sym.Symbol('p')\n",
        "k1**2"
      ]
    },
    {
      "cell_type": "code",
      "execution_count": null,
      "metadata": {
        "id": "guRCF4vF8iZp",
        "outputId": "65a7b323-1a72-491b-b3a6-5caca4fd437a"
      },
      "outputs": [
        {
          "data": {
            "text/latex": [
              "$\\displaystyle \\left\\{\\frac{d_{0} \\left(d_{0} e^{2 a \\sqrt{\\frac{s}{d_{0}}}} - d_{0} + d_{2} \\sqrt{\\frac{d_{0}}{d_{2}}} e^{2 a \\sqrt{\\frac{s}{d_{0}}}} + d_{2} \\sqrt{\\frac{d_{0}}{d_{2}}}\\right)}{\\sqrt{d_{1} s} \\left(d_{0}^{2} \\sqrt{\\frac{d_{1}}{d_{0}}} e^{2 a \\sqrt{\\frac{s}{d_{0}}}} - d_{0}^{2} \\sqrt{\\frac{d_{1}}{d_{0}}} + d_{0} d_{1} e^{2 a \\sqrt{\\frac{s}{d_{0}}}} + d_{0} d_{1} + d_{0} d_{2} \\sqrt{\\frac{d_{1}}{d_{0}}} \\sqrt{\\frac{d_{0}}{d_{2}}} e^{2 a \\sqrt{\\frac{s}{d_{0}}}} + d_{0} d_{2} \\sqrt{\\frac{d_{1}}{d_{0}}} \\sqrt{\\frac{d_{0}}{d_{2}}} + d_{1} d_{2} \\sqrt{\\frac{d_{0}}{d_{2}}} e^{2 a \\sqrt{\\frac{s}{d_{0}}}} - d_{1} d_{2} \\sqrt{\\frac{d_{0}}{d_{2}}}\\right)}\\right\\}$"
            ],
            "text/plain": [
              "FiniteSet(d0*(d0*exp(2*a*sqrt(s/d0)) - d0 + d2*sqrt(d0/d2)*exp(2*a*sqrt(s/d0)) + d2*sqrt(d0/d2))/(sqrt(d1*s)*(d0**2*sqrt(d1/d0)*exp(2*a*sqrt(s/d0)) - d0**2*sqrt(d1/d0) + d0*d1*exp(2*a*sqrt(s/d0)) + d0*d1 + d0*d2*sqrt(d1/d0)*sqrt(d0/d2)*exp(2*a*sqrt(s/d0)) + d0*d2*sqrt(d1/d0)*sqrt(d0/d2) + d1*d2*sqrt(d0/d2)*exp(2*a*sqrt(s/d0)) - d1*d2*sqrt(d0/d2))))"
            ]
          },
          "execution_count": 11,
          "metadata": {},
          "output_type": "execute_result"
        }
      ],
      "source": [
        "As = sym.solveset(C3[0],A).doit()\n",
        "#As = As.subs([(d1,k1*k1),(d0,k1*k1),(d2,k2*k2),(s,p*p)]).doit()\n",
        "As"
      ]
    },
    {
      "cell_type": "code",
      "execution_count": null,
      "metadata": {
        "id": "4z5AHoAA8iZp"
      },
      "outputs": [],
      "source": [
        "dir(sym)"
      ]
    },
    {
      "cell_type": "code",
      "execution_count": null,
      "metadata": {
        "id": "PWvV0rgC8iZq",
        "outputId": "45f4944f-f53a-42e7-c3a0-49c7a7bfd6cd"
      },
      "outputs": [
        {
          "data": {
            "text/latex": [
              "$\\displaystyle \\left\\{\\frac{k_{1}^{2} \\left(k_{1}^{2} e^{2 a \\sqrt{\\frac{s}{k_{1}^{2}}}} - k_{1}^{2} + k_{2}^{2} \\sqrt{\\frac{k_{1}^{2}}{k_{2}^{2}}} e^{2 a \\sqrt{\\frac{s}{k_{1}^{2}}}} + k_{2}^{2} \\sqrt{\\frac{k_{1}^{2}}{k_{2}^{2}}}\\right)}{\\sqrt{k_{1}^{2} s} \\left(2 k_{1}^{4} e^{2 a \\sqrt{\\frac{s}{k_{1}^{2}}}} + 2 k_{1}^{2} k_{2}^{2} \\sqrt{\\frac{k_{1}^{2}}{k_{2}^{2}}} e^{2 a \\sqrt{\\frac{s}{k_{1}^{2}}}}\\right)}\\right\\}$"
            ],
            "text/plain": [
              "FiniteSet(k1**2*(k1**2*exp(2*a*sqrt(s/k1**2)) - k1**2 + k2**2*sqrt(k1**2/k2**2)*exp(2*a*sqrt(s/k1**2)) + k2**2*sqrt(k1**2/k2**2))/(sqrt(k1**2*s)*(2*k1**4*exp(2*a*sqrt(s/k1**2)) + 2*k1**2*k2**2*sqrt(k1**2/k2**2)*exp(2*a*sqrt(s/k1**2)))))"
            ]
          },
          "execution_count": 74,
          "metadata": {},
          "output_type": "execute_result"
        }
      ],
      "source": [
        "As2 = sym.simplify(As)\n",
        "As2"
      ]
    },
    {
      "cell_type": "code",
      "execution_count": null,
      "metadata": {
        "id": "iqgTkW6a8iZq",
        "outputId": "aed728e6-2f5f-4927-d850-5ea82db2d4b0"
      },
      "outputs": [
        {
          "data": {
            "text/latex": [
              "$\\displaystyle \\left[\\begin{matrix}\\left\\{\\frac{d_{0} \\left(d_{0} e^{2 a \\sqrt{\\frac{s}{d_{0}}}} - d_{0} + d_{2} \\sqrt{\\frac{d_{0}}{d_{2}}} e^{2 a \\sqrt{\\frac{s}{d_{0}}}} + d_{2} \\sqrt{\\frac{d_{0}}{d_{2}}}\\right)}{\\sqrt{d_{1} s} \\left(d_{0}^{2} \\sqrt{\\frac{d_{1}}{d_{0}}} e^{2 a \\sqrt{\\frac{s}{d_{0}}}} - d_{0}^{2} \\sqrt{\\frac{d_{1}}{d_{0}}} + d_{0} d_{1} e^{2 a \\sqrt{\\frac{s}{d_{0}}}} + d_{0} d_{1} + d_{0} d_{2} \\sqrt{\\frac{d_{1}}{d_{0}}} \\sqrt{\\frac{d_{0}}{d_{2}}} e^{2 a \\sqrt{\\frac{s}{d_{0}}}} + d_{0} d_{2} \\sqrt{\\frac{d_{1}}{d_{0}}} \\sqrt{\\frac{d_{0}}{d_{2}}} + d_{1} d_{2} \\sqrt{\\frac{d_{0}}{d_{2}}} e^{2 a \\sqrt{\\frac{s}{d_{0}}}} - d_{1} d_{2} \\sqrt{\\frac{d_{0}}{d_{2}}}\\right)}\\right\\}\\\\0\\end{matrix}\\right]$"
            ],
            "text/plain": [
              "Matrix([\n",
              "[FiniteSet(d0*(d0*exp(2*a*sqrt(s/d0)) - d0 + d2*sqrt(d0/d2)*exp(2*a*sqrt(s/d0)) + d2*sqrt(d0/d2))/(sqrt(d1*s)*(d0**2*sqrt(d1/d0)*exp(2*a*sqrt(s/d0)) - d0**2*sqrt(d1/d0) + d0*d1*exp(2*a*sqrt(s/d0)) + d0*d1 + d0*d2*sqrt(d1/d0)*sqrt(d0/d2)*exp(2*a*sqrt(s/d0)) + d0*d2*sqrt(d1/d0)*sqrt(d0/d2) + d1*d2*sqrt(d0/d2)*exp(2*a*sqrt(s/d0)) - d1*d2*sqrt(d0/d2))))],\n",
              "[                                                                                                                                                                                                                                                                                                                                                             0]])"
            ]
          },
          "execution_count": 12,
          "metadata": {},
          "output_type": "execute_result"
        }
      ],
      "source": [
        "C1s = C1.subs(A,As)\n",
        "C1s"
      ]
    },
    {
      "cell_type": "code",
      "execution_count": null,
      "metadata": {
        "id": "IuH-B7Y28iZq",
        "outputId": "891b5bb2-43f7-44ce-c76f-cebc903305f9"
      },
      "outputs": [
        {
          "name": "stdout",
          "output_type": "stream",
          "text": [
            "\\left[\\begin{matrix}\\frac{\\left(\\frac{d_{0}}{d_{2}} - \\sqrt{\\frac{d_{0}}{d_{2}}}\\right) e^{- a \\left(\\sqrt{\\frac{s}{d_{0}}} + \\sqrt{\\frac{s}{d_{2}}}\\right)} \\left(\\left(- \\frac{\\sqrt{\\frac{d_{1}}{d_{0}}}}{2} + \\frac{d_{1}}{2 d_{0}}\\right) \\left\\{\\frac{d_{0} \\left(d_{0} e^{2 a \\sqrt{\\frac{s}{d_{0}}}} - d_{0} + d_{2} \\sqrt{\\frac{d_{0}}{d_{2}}} e^{2 a \\sqrt{\\frac{s}{d_{0}}}} + d_{2} \\sqrt{\\frac{d_{0}}{d_{2}}}\\right)}{\\sqrt{d_{1} s} \\left(d_{0}^{2} \\sqrt{\\frac{d_{1}}{d_{0}}} e^{2 a \\sqrt{\\frac{s}{d_{0}}}} - d_{0}^{2} \\sqrt{\\frac{d_{1}}{d_{0}}} + d_{0} d_{1} e^{2 a \\sqrt{\\frac{s}{d_{0}}}} + d_{0} d_{1} + d_{0} d_{2} \\sqrt{\\frac{d_{1}}{d_{0}}} \\sqrt{\\frac{d_{0}}{d_{2}}} e^{2 a \\sqrt{\\frac{s}{d_{0}}}} + d_{0} d_{2} \\sqrt{\\frac{d_{1}}{d_{0}}} \\sqrt{\\frac{d_{0}}{d_{2}}} + d_{1} d_{2} \\sqrt{\\frac{d_{0}}{d_{2}}} e^{2 a \\sqrt{\\frac{s}{d_{0}}}} - d_{1} d_{2} \\sqrt{\\frac{d_{0}}{d_{2}}}\\right)}\\right\\} + \\frac{1}{2 \\sqrt{d_{1} s}}\\right)}{2} + \\frac{\\left(\\frac{d_{0}}{d_{2}} + \\sqrt{\\frac{d_{0}}{d_{2}}}\\right) e^{a \\left(\\sqrt{\\frac{s}{d_{0}}} - \\sqrt{\\frac{s}{d_{2}}}\\right)} \\left(\\left(\\frac{\\sqrt{\\frac{d_{1}}{d_{0}}}}{2} + \\frac{d_{1}}{2 d_{0}}\\right) \\left\\{\\frac{d_{0} \\left(d_{0} e^{2 a \\sqrt{\\frac{s}{d_{0}}}} - d_{0} + d_{2} \\sqrt{\\frac{d_{0}}{d_{2}}} e^{2 a \\sqrt{\\frac{s}{d_{0}}}} + d_{2} \\sqrt{\\frac{d_{0}}{d_{2}}}\\right)}{\\sqrt{d_{1} s} \\left(d_{0}^{2} \\sqrt{\\frac{d_{1}}{d_{0}}} e^{2 a \\sqrt{\\frac{s}{d_{0}}}} - d_{0}^{2} \\sqrt{\\frac{d_{1}}{d_{0}}} + d_{0} d_{1} e^{2 a \\sqrt{\\frac{s}{d_{0}}}} + d_{0} d_{1} + d_{0} d_{2} \\sqrt{\\frac{d_{1}}{d_{0}}} \\sqrt{\\frac{d_{0}}{d_{2}}} e^{2 a \\sqrt{\\frac{s}{d_{0}}}} + d_{0} d_{2} \\sqrt{\\frac{d_{1}}{d_{0}}} \\sqrt{\\frac{d_{0}}{d_{2}}} + d_{1} d_{2} \\sqrt{\\frac{d_{0}}{d_{2}}} e^{2 a \\sqrt{\\frac{s}{d_{0}}}} - d_{1} d_{2} \\sqrt{\\frac{d_{0}}{d_{2}}}\\right)}\\right\\} - \\frac{1}{2 \\sqrt{d_{1} s}}\\right)}{2}\\\\\\frac{\\left(\\frac{d_{0}}{d_{2}} - \\sqrt{\\frac{d_{0}}{d_{2}}}\\right) e^{a \\left(\\sqrt{\\frac{s}{d_{0}}} + \\sqrt{\\frac{s}{d_{2}}}\\right)} \\left(\\left(\\frac{\\sqrt{\\frac{d_{1}}{d_{0}}}}{2} + \\frac{d_{1}}{2 d_{0}}\\right) \\left\\{\\frac{d_{0} \\left(d_{0} e^{2 a \\sqrt{\\frac{s}{d_{0}}}} - d_{0} + d_{2} \\sqrt{\\frac{d_{0}}{d_{2}}} e^{2 a \\sqrt{\\frac{s}{d_{0}}}} + d_{2} \\sqrt{\\frac{d_{0}}{d_{2}}}\\right)}{\\sqrt{d_{1} s} \\left(d_{0}^{2} \\sqrt{\\frac{d_{1}}{d_{0}}} e^{2 a \\sqrt{\\frac{s}{d_{0}}}} - d_{0}^{2} \\sqrt{\\frac{d_{1}}{d_{0}}} + d_{0} d_{1} e^{2 a \\sqrt{\\frac{s}{d_{0}}}} + d_{0} d_{1} + d_{0} d_{2} \\sqrt{\\frac{d_{1}}{d_{0}}} \\sqrt{\\frac{d_{0}}{d_{2}}} e^{2 a \\sqrt{\\frac{s}{d_{0}}}} + d_{0} d_{2} \\sqrt{\\frac{d_{1}}{d_{0}}} \\sqrt{\\frac{d_{0}}{d_{2}}} + d_{1} d_{2} \\sqrt{\\frac{d_{0}}{d_{2}}} e^{2 a \\sqrt{\\frac{s}{d_{0}}}} - d_{1} d_{2} \\sqrt{\\frac{d_{0}}{d_{2}}}\\right)}\\right\\} - \\frac{1}{2 \\sqrt{d_{1} s}}\\right)}{2} + \\frac{\\left(\\frac{d_{0}}{d_{2}} + \\sqrt{\\frac{d_{0}}{d_{2}}}\\right) e^{- a \\left(\\sqrt{\\frac{s}{d_{0}}} - \\sqrt{\\frac{s}{d_{2}}}\\right)} \\left(\\left(- \\frac{\\sqrt{\\frac{d_{1}}{d_{0}}}}{2} + \\frac{d_{1}}{2 d_{0}}\\right) \\left\\{\\frac{d_{0} \\left(d_{0} e^{2 a \\sqrt{\\frac{s}{d_{0}}}} - d_{0} + d_{2} \\sqrt{\\frac{d_{0}}{d_{2}}} e^{2 a \\sqrt{\\frac{s}{d_{0}}}} + d_{2} \\sqrt{\\frac{d_{0}}{d_{2}}}\\right)}{\\sqrt{d_{1} s} \\left(d_{0}^{2} \\sqrt{\\frac{d_{1}}{d_{0}}} e^{2 a \\sqrt{\\frac{s}{d_{0}}}} - d_{0}^{2} \\sqrt{\\frac{d_{1}}{d_{0}}} + d_{0} d_{1} e^{2 a \\sqrt{\\frac{s}{d_{0}}}} + d_{0} d_{1} + d_{0} d_{2} \\sqrt{\\frac{d_{1}}{d_{0}}} \\sqrt{\\frac{d_{0}}{d_{2}}} e^{2 a \\sqrt{\\frac{s}{d_{0}}}} + d_{0} d_{2} \\sqrt{\\frac{d_{1}}{d_{0}}} \\sqrt{\\frac{d_{0}}{d_{2}}} + d_{1} d_{2} \\sqrt{\\frac{d_{0}}{d_{2}}} e^{2 a \\sqrt{\\frac{s}{d_{0}}}} - d_{1} d_{2} \\sqrt{\\frac{d_{0}}{d_{2}}}\\right)}\\right\\} + \\frac{1}{2 \\sqrt{d_{1} s}}\\right)}{2}\\end{matrix}\\right]\n"
          ]
        }
      ],
      "source": [
        "print(sym.latex(C3s))"
      ]
    },
    {
      "cell_type": "markdown",
      "metadata": {
        "id": "YWoiNUvq8iZq"
      },
      "source": [
        "$\\left[\\begin{matrix}\\left\\{\\frac{d_{0} \\left(d_{0} e^{2 a \\sqrt{\\frac{s}{d_{0}}}} - d_{0} + d_{2} \\sqrt{\\frac{d_{0}}{d_{2}}} e^{2 a \\sqrt{\\frac{s}{d_{0}}}} + d_{2} \\sqrt{\\frac{d_{0}}{d_{2}}}\\right)}{\\sqrt{d_{1} s} \\left(d_{0}^{2} \\sqrt{\\frac{d_{1}}{d_{0}}} e^{2 a \\sqrt{\\frac{s}{d_{0}}}} - d_{0}^{2} \\sqrt{\\frac{d_{1}}{d_{0}}} + d_{0} d_{1} e^{2 a \\sqrt{\\frac{s}{d_{0}}}} + d_{0} d_{1} + d_{0} d_{2} \\sqrt{\\frac{d_{1}}{d_{0}}} \\sqrt{\\frac{d_{0}}{d_{2}}} e^{2 a \\sqrt{\\frac{s}{d_{0}}}} + d_{0} d_{2} \\sqrt{\\frac{d_{1}}{d_{0}}} \\sqrt{\\frac{d_{0}}{d_{2}}} + d_{1} d_{2} \\sqrt{\\frac{d_{0}}{d_{2}}} e^{2 a \\sqrt{\\frac{s}{d_{0}}}} - d_{1} d_{2} \\sqrt{\\frac{d_{0}}{d_{2}}}\\right)}\\right\\}\\\\0\\end{matrix}\\right]$"
      ]
    },
    {
      "cell_type": "code",
      "execution_count": null,
      "metadata": {
        "id": "8qdhXpiB8iZr"
      },
      "outputs": [],
      "source": [
        "C2s = C2.subs(A,As)"
      ]
    },
    {
      "cell_type": "code",
      "execution_count": null,
      "metadata": {
        "id": "jIov95_Q8iZr",
        "outputId": "8ba6f1f2-4581-4046-e945-6cc7193d3db8"
      },
      "outputs": [
        {
          "data": {
            "text/latex": [
              "$\\displaystyle \\left[\\begin{matrix}\\left(\\frac{\\sqrt{\\frac{d_{1}}{d_{0}}}}{2} + \\frac{d_{1}}{2 d_{0}}\\right) \\left\\{\\frac{d_{0} \\left(d_{0} e^{2 a \\sqrt{\\frac{s}{d_{0}}}} - d_{0} + d_{2} \\sqrt{\\frac{d_{0}}{d_{2}}} e^{2 a \\sqrt{\\frac{s}{d_{0}}}} + d_{2} \\sqrt{\\frac{d_{0}}{d_{2}}}\\right)}{\\sqrt{d_{1} s} \\left(d_{0}^{2} \\sqrt{\\frac{d_{1}}{d_{0}}} e^{2 a \\sqrt{\\frac{s}{d_{0}}}} - d_{0}^{2} \\sqrt{\\frac{d_{1}}{d_{0}}} + d_{0} d_{1} e^{2 a \\sqrt{\\frac{s}{d_{0}}}} + d_{0} d_{1} + d_{0} d_{2} \\sqrt{\\frac{d_{1}}{d_{0}}} \\sqrt{\\frac{d_{0}}{d_{2}}} e^{2 a \\sqrt{\\frac{s}{d_{0}}}} + d_{0} d_{2} \\sqrt{\\frac{d_{1}}{d_{0}}} \\sqrt{\\frac{d_{0}}{d_{2}}} + d_{1} d_{2} \\sqrt{\\frac{d_{0}}{d_{2}}} e^{2 a \\sqrt{\\frac{s}{d_{0}}}} - d_{1} d_{2} \\sqrt{\\frac{d_{0}}{d_{2}}}\\right)}\\right\\} - \\frac{1}{2 \\sqrt{d_{1} s}}\\\\\\left(- \\frac{\\sqrt{\\frac{d_{1}}{d_{0}}}}{2} + \\frac{d_{1}}{2 d_{0}}\\right) \\left\\{\\frac{d_{0} \\left(d_{0} e^{2 a \\sqrt{\\frac{s}{d_{0}}}} - d_{0} + d_{2} \\sqrt{\\frac{d_{0}}{d_{2}}} e^{2 a \\sqrt{\\frac{s}{d_{0}}}} + d_{2} \\sqrt{\\frac{d_{0}}{d_{2}}}\\right)}{\\sqrt{d_{1} s} \\left(d_{0}^{2} \\sqrt{\\frac{d_{1}}{d_{0}}} e^{2 a \\sqrt{\\frac{s}{d_{0}}}} - d_{0}^{2} \\sqrt{\\frac{d_{1}}{d_{0}}} + d_{0} d_{1} e^{2 a \\sqrt{\\frac{s}{d_{0}}}} + d_{0} d_{1} + d_{0} d_{2} \\sqrt{\\frac{d_{1}}{d_{0}}} \\sqrt{\\frac{d_{0}}{d_{2}}} e^{2 a \\sqrt{\\frac{s}{d_{0}}}} + d_{0} d_{2} \\sqrt{\\frac{d_{1}}{d_{0}}} \\sqrt{\\frac{d_{0}}{d_{2}}} + d_{1} d_{2} \\sqrt{\\frac{d_{0}}{d_{2}}} e^{2 a \\sqrt{\\frac{s}{d_{0}}}} - d_{1} d_{2} \\sqrt{\\frac{d_{0}}{d_{2}}}\\right)}\\right\\} + \\frac{1}{2 \\sqrt{d_{1} s}}\\end{matrix}\\right]$"
            ],
            "text/plain": [
              "Matrix([\n",
              "[ (sqrt(d1/d0)/2 + d1/(2*d0))*FiniteSet(d0*(d0*exp(2*a*sqrt(s/d0)) - d0 + d2*sqrt(d0/d2)*exp(2*a*sqrt(s/d0)) + d2*sqrt(d0/d2))/(sqrt(d1*s)*(d0**2*sqrt(d1/d0)*exp(2*a*sqrt(s/d0)) - d0**2*sqrt(d1/d0) + d0*d1*exp(2*a*sqrt(s/d0)) + d0*d1 + d0*d2*sqrt(d1/d0)*sqrt(d0/d2)*exp(2*a*sqrt(s/d0)) + d0*d2*sqrt(d1/d0)*sqrt(d0/d2) + d1*d2*sqrt(d0/d2)*exp(2*a*sqrt(s/d0)) - d1*d2*sqrt(d0/d2)))) - 1/(2*sqrt(d1*s))],\n",
              "[(-sqrt(d1/d0)/2 + d1/(2*d0))*FiniteSet(d0*(d0*exp(2*a*sqrt(s/d0)) - d0 + d2*sqrt(d0/d2)*exp(2*a*sqrt(s/d0)) + d2*sqrt(d0/d2))/(sqrt(d1*s)*(d0**2*sqrt(d1/d0)*exp(2*a*sqrt(s/d0)) - d0**2*sqrt(d1/d0) + d0*d1*exp(2*a*sqrt(s/d0)) + d0*d1 + d0*d2*sqrt(d1/d0)*sqrt(d0/d2)*exp(2*a*sqrt(s/d0)) + d0*d2*sqrt(d1/d0)*sqrt(d0/d2) + d1*d2*sqrt(d0/d2)*exp(2*a*sqrt(s/d0)) - d1*d2*sqrt(d0/d2)))) + 1/(2*sqrt(d1*s))]])"
            ]
          },
          "execution_count": 14,
          "metadata": {},
          "output_type": "execute_result"
        }
      ],
      "source": [
        "C2s"
      ]
    },
    {
      "cell_type": "code",
      "execution_count": null,
      "metadata": {
        "id": "7uIyHYV88iZr",
        "outputId": "e62343fc-81d6-455f-cec5-a18793dc9e17"
      },
      "outputs": [
        {
          "data": {
            "text/latex": [
              "$\\displaystyle \\left[\\begin{matrix}\\frac{\\left(\\frac{d_{0}}{d_{2}} - \\sqrt{\\frac{d_{0}}{d_{2}}}\\right) e^{- a \\left(\\sqrt{\\frac{s}{d_{0}}} + \\sqrt{\\frac{s}{d_{2}}}\\right)} \\left(\\left(- \\frac{\\sqrt{\\frac{d_{1}}{d_{0}}}}{2} + \\frac{d_{1}}{2 d_{0}}\\right) \\left\\{\\frac{d_{0} \\left(d_{0} e^{2 a \\sqrt{\\frac{s}{d_{0}}}} - d_{0} + d_{2} \\sqrt{\\frac{d_{0}}{d_{2}}} e^{2 a \\sqrt{\\frac{s}{d_{0}}}} + d_{2} \\sqrt{\\frac{d_{0}}{d_{2}}}\\right)}{\\sqrt{d_{1} s} \\left(d_{0}^{2} \\sqrt{\\frac{d_{1}}{d_{0}}} e^{2 a \\sqrt{\\frac{s}{d_{0}}}} - d_{0}^{2} \\sqrt{\\frac{d_{1}}{d_{0}}} + d_{0} d_{1} e^{2 a \\sqrt{\\frac{s}{d_{0}}}} + d_{0} d_{1} + d_{0} d_{2} \\sqrt{\\frac{d_{1}}{d_{0}}} \\sqrt{\\frac{d_{0}}{d_{2}}} e^{2 a \\sqrt{\\frac{s}{d_{0}}}} + d_{0} d_{2} \\sqrt{\\frac{d_{1}}{d_{0}}} \\sqrt{\\frac{d_{0}}{d_{2}}} + d_{1} d_{2} \\sqrt{\\frac{d_{0}}{d_{2}}} e^{2 a \\sqrt{\\frac{s}{d_{0}}}} - d_{1} d_{2} \\sqrt{\\frac{d_{0}}{d_{2}}}\\right)}\\right\\} + \\frac{1}{2 \\sqrt{d_{1} s}}\\right)}{2} + \\frac{\\left(\\frac{d_{0}}{d_{2}} + \\sqrt{\\frac{d_{0}}{d_{2}}}\\right) e^{a \\left(\\sqrt{\\frac{s}{d_{0}}} - \\sqrt{\\frac{s}{d_{2}}}\\right)} \\left(\\left(\\frac{\\sqrt{\\frac{d_{1}}{d_{0}}}}{2} + \\frac{d_{1}}{2 d_{0}}\\right) \\left\\{\\frac{d_{0} \\left(d_{0} e^{2 a \\sqrt{\\frac{s}{d_{0}}}} - d_{0} + d_{2} \\sqrt{\\frac{d_{0}}{d_{2}}} e^{2 a \\sqrt{\\frac{s}{d_{0}}}} + d_{2} \\sqrt{\\frac{d_{0}}{d_{2}}}\\right)}{\\sqrt{d_{1} s} \\left(d_{0}^{2} \\sqrt{\\frac{d_{1}}{d_{0}}} e^{2 a \\sqrt{\\frac{s}{d_{0}}}} - d_{0}^{2} \\sqrt{\\frac{d_{1}}{d_{0}}} + d_{0} d_{1} e^{2 a \\sqrt{\\frac{s}{d_{0}}}} + d_{0} d_{1} + d_{0} d_{2} \\sqrt{\\frac{d_{1}}{d_{0}}} \\sqrt{\\frac{d_{0}}{d_{2}}} e^{2 a \\sqrt{\\frac{s}{d_{0}}}} + d_{0} d_{2} \\sqrt{\\frac{d_{1}}{d_{0}}} \\sqrt{\\frac{d_{0}}{d_{2}}} + d_{1} d_{2} \\sqrt{\\frac{d_{0}}{d_{2}}} e^{2 a \\sqrt{\\frac{s}{d_{0}}}} - d_{1} d_{2} \\sqrt{\\frac{d_{0}}{d_{2}}}\\right)}\\right\\} - \\frac{1}{2 \\sqrt{d_{1} s}}\\right)}{2}\\\\\\frac{\\left(\\frac{d_{0}}{d_{2}} - \\sqrt{\\frac{d_{0}}{d_{2}}}\\right) e^{a \\left(\\sqrt{\\frac{s}{d_{0}}} + \\sqrt{\\frac{s}{d_{2}}}\\right)} \\left(\\left(\\frac{\\sqrt{\\frac{d_{1}}{d_{0}}}}{2} + \\frac{d_{1}}{2 d_{0}}\\right) \\left\\{\\frac{d_{0} \\left(d_{0} e^{2 a \\sqrt{\\frac{s}{d_{0}}}} - d_{0} + d_{2} \\sqrt{\\frac{d_{0}}{d_{2}}} e^{2 a \\sqrt{\\frac{s}{d_{0}}}} + d_{2} \\sqrt{\\frac{d_{0}}{d_{2}}}\\right)}{\\sqrt{d_{1} s} \\left(d_{0}^{2} \\sqrt{\\frac{d_{1}}{d_{0}}} e^{2 a \\sqrt{\\frac{s}{d_{0}}}} - d_{0}^{2} \\sqrt{\\frac{d_{1}}{d_{0}}} + d_{0} d_{1} e^{2 a \\sqrt{\\frac{s}{d_{0}}}} + d_{0} d_{1} + d_{0} d_{2} \\sqrt{\\frac{d_{1}}{d_{0}}} \\sqrt{\\frac{d_{0}}{d_{2}}} e^{2 a \\sqrt{\\frac{s}{d_{0}}}} + d_{0} d_{2} \\sqrt{\\frac{d_{1}}{d_{0}}} \\sqrt{\\frac{d_{0}}{d_{2}}} + d_{1} d_{2} \\sqrt{\\frac{d_{0}}{d_{2}}} e^{2 a \\sqrt{\\frac{s}{d_{0}}}} - d_{1} d_{2} \\sqrt{\\frac{d_{0}}{d_{2}}}\\right)}\\right\\} - \\frac{1}{2 \\sqrt{d_{1} s}}\\right)}{2} + \\frac{\\left(\\frac{d_{0}}{d_{2}} + \\sqrt{\\frac{d_{0}}{d_{2}}}\\right) e^{- a \\left(\\sqrt{\\frac{s}{d_{0}}} - \\sqrt{\\frac{s}{d_{2}}}\\right)} \\left(\\left(- \\frac{\\sqrt{\\frac{d_{1}}{d_{0}}}}{2} + \\frac{d_{1}}{2 d_{0}}\\right) \\left\\{\\frac{d_{0} \\left(d_{0} e^{2 a \\sqrt{\\frac{s}{d_{0}}}} - d_{0} + d_{2} \\sqrt{\\frac{d_{0}}{d_{2}}} e^{2 a \\sqrt{\\frac{s}{d_{0}}}} + d_{2} \\sqrt{\\frac{d_{0}}{d_{2}}}\\right)}{\\sqrt{d_{1} s} \\left(d_{0}^{2} \\sqrt{\\frac{d_{1}}{d_{0}}} e^{2 a \\sqrt{\\frac{s}{d_{0}}}} - d_{0}^{2} \\sqrt{\\frac{d_{1}}{d_{0}}} + d_{0} d_{1} e^{2 a \\sqrt{\\frac{s}{d_{0}}}} + d_{0} d_{1} + d_{0} d_{2} \\sqrt{\\frac{d_{1}}{d_{0}}} \\sqrt{\\frac{d_{0}}{d_{2}}} e^{2 a \\sqrt{\\frac{s}{d_{0}}}} + d_{0} d_{2} \\sqrt{\\frac{d_{1}}{d_{0}}} \\sqrt{\\frac{d_{0}}{d_{2}}} + d_{1} d_{2} \\sqrt{\\frac{d_{0}}{d_{2}}} e^{2 a \\sqrt{\\frac{s}{d_{0}}}} - d_{1} d_{2} \\sqrt{\\frac{d_{0}}{d_{2}}}\\right)}\\right\\} + \\frac{1}{2 \\sqrt{d_{1} s}}\\right)}{2}\\end{matrix}\\right]$"
            ],
            "text/plain": [
              "Matrix([\n",
              "[(d0/d2 - sqrt(d0/d2))*exp(-a*(sqrt(s/d0) + sqrt(s/d2)))*((-sqrt(d1/d0)/2 + d1/(2*d0))*FiniteSet(d0*(d0*exp(2*a*sqrt(s/d0)) - d0 + d2*sqrt(d0/d2)*exp(2*a*sqrt(s/d0)) + d2*sqrt(d0/d2))/(sqrt(d1*s)*(d0**2*sqrt(d1/d0)*exp(2*a*sqrt(s/d0)) - d0**2*sqrt(d1/d0) + d0*d1*exp(2*a*sqrt(s/d0)) + d0*d1 + d0*d2*sqrt(d1/d0)*sqrt(d0/d2)*exp(2*a*sqrt(s/d0)) + d0*d2*sqrt(d1/d0)*sqrt(d0/d2) + d1*d2*sqrt(d0/d2)*exp(2*a*sqrt(s/d0)) - d1*d2*sqrt(d0/d2)))) + 1/(2*sqrt(d1*s)))/2 + (d0/d2 + sqrt(d0/d2))*exp(a*(sqrt(s/d0) - sqrt(s/d2)))*((sqrt(d1/d0)/2 + d1/(2*d0))*FiniteSet(d0*(d0*exp(2*a*sqrt(s/d0)) - d0 + d2*sqrt(d0/d2)*exp(2*a*sqrt(s/d0)) + d2*sqrt(d0/d2))/(sqrt(d1*s)*(d0**2*sqrt(d1/d0)*exp(2*a*sqrt(s/d0)) - d0**2*sqrt(d1/d0) + d0*d1*exp(2*a*sqrt(s/d0)) + d0*d1 + d0*d2*sqrt(d1/d0)*sqrt(d0/d2)*exp(2*a*sqrt(s/d0)) + d0*d2*sqrt(d1/d0)*sqrt(d0/d2) + d1*d2*sqrt(d0/d2)*exp(2*a*sqrt(s/d0)) - d1*d2*sqrt(d0/d2)))) - 1/(2*sqrt(d1*s)))/2],\n",
              "[(d0/d2 - sqrt(d0/d2))*exp(a*(sqrt(s/d0) + sqrt(s/d2)))*((sqrt(d1/d0)/2 + d1/(2*d0))*FiniteSet(d0*(d0*exp(2*a*sqrt(s/d0)) - d0 + d2*sqrt(d0/d2)*exp(2*a*sqrt(s/d0)) + d2*sqrt(d0/d2))/(sqrt(d1*s)*(d0**2*sqrt(d1/d0)*exp(2*a*sqrt(s/d0)) - d0**2*sqrt(d1/d0) + d0*d1*exp(2*a*sqrt(s/d0)) + d0*d1 + d0*d2*sqrt(d1/d0)*sqrt(d0/d2)*exp(2*a*sqrt(s/d0)) + d0*d2*sqrt(d1/d0)*sqrt(d0/d2) + d1*d2*sqrt(d0/d2)*exp(2*a*sqrt(s/d0)) - d1*d2*sqrt(d0/d2)))) - 1/(2*sqrt(d1*s)))/2 + (d0/d2 + sqrt(d0/d2))*exp(-a*(sqrt(s/d0) - sqrt(s/d2)))*((-sqrt(d1/d0)/2 + d1/(2*d0))*FiniteSet(d0*(d0*exp(2*a*sqrt(s/d0)) - d0 + d2*sqrt(d0/d2)*exp(2*a*sqrt(s/d0)) + d2*sqrt(d0/d2))/(sqrt(d1*s)*(d0**2*sqrt(d1/d0)*exp(2*a*sqrt(s/d0)) - d0**2*sqrt(d1/d0) + d0*d1*exp(2*a*sqrt(s/d0)) + d0*d1 + d0*d2*sqrt(d1/d0)*sqrt(d0/d2)*exp(2*a*sqrt(s/d0)) + d0*d2*sqrt(d1/d0)*sqrt(d0/d2) + d1*d2*sqrt(d0/d2)*exp(2*a*sqrt(s/d0)) - d1*d2*sqrt(d0/d2)))) + 1/(2*sqrt(d1*s)))/2]])"
            ]
          },
          "execution_count": 16,
          "metadata": {},
          "output_type": "execute_result"
        }
      ],
      "source": [
        "C3s = C3.subs(A,As)\n",
        "C3s"
      ]
    },
    {
      "cell_type": "markdown",
      "metadata": {
        "id": "W5pivn6F8iZr"
      },
      "source": [
        ""
      ]
    },
    {
      "cell_type": "code",
      "execution_count": null,
      "metadata": {
        "id": "6CzrXsG78iZr"
      },
      "outputs": [],
      "source": [
        ""
      ]
    },
    {
      "cell_type": "code",
      "execution_count": null,
      "metadata": {
        "id": "MzhhNs7w8iZr"
      },
      "outputs": [],
      "source": [
        ""
      ]
    },
    {
      "cell_type": "code",
      "execution_count": null,
      "metadata": {
        "id": "w7Wl---P8iZs"
      },
      "outputs": [],
      "source": [
        "gf2 = sym.MatMul(g2,C2).doit()\n",
        "gf0 = sym.MatMul(g1,C0).doit()\n",
        "gf1  = sym.MatMul(g1,C1).doit()"
      ]
    },
    {
      "cell_type": "markdown",
      "metadata": {
        "id": "k4BQR_sd8iZs"
      },
      "source": [
        ""
      ]
    },
    {
      "cell_type": "markdown",
      "metadata": {
        "id": "cKM8cYx98iZs"
      },
      "source": [
        "# finding solution"
      ]
    },
    {
      "cell_type": "code",
      "execution_count": null,
      "metadata": {
        "id": "acXuNTGr8iZs",
        "outputId": "d73fc665-8aba-49c7-cf29-7db69e14c988"
      },
      "outputs": [
        {
          "data": {
            "text/latex": [
              "$\\displaystyle \\left\\{\\frac{e^{- a \\sqrt{\\frac{s}{d_{2}}}} e^{- b \\left(\\sqrt{\\frac{s}{d_{1}}} - \\sqrt{\\frac{s}{d_{2}}}\\right)}}{\\sqrt{d_{2} s} \\left(\\frac{d_{1}}{d_{2}} + \\sqrt{\\frac{d_{1}}{d_{2}}}\\right)}\\right\\}$"
            ],
            "text/plain": [
              "FiniteSet(exp(-a*sqrt(s/d2))*exp(-b*(sqrt(s/d1) - sqrt(s/d2)))/(sqrt(d2*s)*(d1/d2 + sqrt(d1/d2))))"
            ]
          },
          "execution_count": 8,
          "metadata": {},
          "output_type": "execute_result"
        }
      ],
      "source": [
        "As = sym.solveset(C1[0],A)\n",
        "As"
      ]
    },
    {
      "cell_type": "code",
      "execution_count": null,
      "metadata": {
        "id": "SfiE1IUx8iZs",
        "outputId": "32b756dc-755f-46fb-f7ad-bce6989cb24a"
      },
      "outputs": [
        {
          "data": {
            "text/latex": [
              "$\\displaystyle \\left[\\begin{matrix}\\left\\{\\frac{e^{- a \\sqrt{\\frac{s}{d_{2}}}} e^{- b \\left(\\sqrt{\\frac{s}{d_{1}}} - \\sqrt{\\frac{s}{d_{2}}}\\right)}}{\\sqrt{d_{2} s} \\left(\\frac{d_{1}}{d_{2}} + \\sqrt{\\frac{d_{1}}{d_{2}}}\\right)}\\right\\}\\\\0\\end{matrix}\\right]$"
            ],
            "text/plain": [
              "Matrix([\n",
              "[FiniteSet(exp(-a*sqrt(s/d2))*exp(-b*(sqrt(s/d1) - sqrt(s/d2)))/(sqrt(d2*s)*(d1/d2 + sqrt(d1/d2))))],\n",
              "[                                                                                                 0]])"
            ]
          },
          "execution_count": 54,
          "metadata": {},
          "output_type": "execute_result"
        }
      ],
      "source": [
        "Cs2 = coef(As, 0)\n",
        "Cs2"
      ]
    },
    {
      "cell_type": "code",
      "execution_count": null,
      "metadata": {
        "id": "AIsNfC9y8iZt"
      },
      "outputs": [],
      "source": [
        "Cs0 = sym.MatMul(Diff(d1,d2,b,s),Cs2).doit()"
      ]
    },
    {
      "cell_type": "code",
      "execution_count": null,
      "metadata": {
        "id": "HFdnB8oV8iZt"
      },
      "outputs": [],
      "source": [
        "Cs2 = coef(As, 0)\n",
        "Cs0 = sym.MatMul(Diff(d1,d2,b,s),Cs2).doit()\n",
        "Cs1 = sym.MatMul(Diff(d2,d2,a,s),Cs0).doit()+ src(d2, a, s)"
      ]
    },
    {
      "cell_type": "code",
      "execution_count": null,
      "metadata": {
        "id": "ZagvLQMF8iZt",
        "outputId": "a99b218c-3aa9-49df-bd7e-69c7bda62ae4"
      },
      "outputs": [
        {
          "data": {
            "text/latex": [
              "$\\displaystyle \\left[\\begin{matrix}\\frac{A \\left(\\frac{d_{1}}{d_{2}} - \\sqrt{\\frac{d_{1}}{d_{2}}}\\right) e^{b \\left(\\sqrt{\\frac{s}{d_{1}}} + \\sqrt{\\frac{s}{d_{2}}}\\right)} e^{- x \\sqrt{\\frac{s}{d_{1}}}}}{2} + \\frac{A \\left(\\frac{d_{1}}{d_{2}} + \\sqrt{\\frac{d_{1}}{d_{2}}}\\right) e^{b \\left(\\sqrt{\\frac{s}{d_{1}}} - \\sqrt{\\frac{s}{d_{2}}}\\right)} e^{x \\sqrt{\\frac{s}{d_{1}}}}}{2}\\end{matrix}\\right]$"
            ],
            "text/plain": [
              "Matrix([[A*(d1/d2 - sqrt(d1/d2))*exp(b*(sqrt(s/d1) + sqrt(s/d2)))*exp(-x*sqrt(s/d1))/2 + A*(d1/d2 + sqrt(d1/d2))*exp(b*(sqrt(s/d1) - sqrt(s/d2)))*exp(x*sqrt(s/d1))/2]])"
            ]
          },
          "execution_count": 45,
          "metadata": {},
          "output_type": "execute_result"
        }
      ],
      "source": [
        "gf0"
      ]
    },
    {
      "cell_type": "code",
      "execution_count": null,
      "metadata": {
        "id": "m8HSVQsS8iZt",
        "outputId": "c5095e49-2db6-4dc3-cd09-3361485ebadd"
      },
      "outputs": [
        {
          "data": {
            "text/latex": [
              "$\\displaystyle \\left[\\begin{matrix}\\left(\\frac{A \\left(\\frac{d_{1}}{d_{2}} - \\sqrt{\\frac{d_{1}}{d_{2}}}\\right) e^{b \\left(\\sqrt{\\frac{s}{d_{1}}} + \\sqrt{\\frac{s}{d_{2}}}\\right)}}{2} + \\frac{e^{- a \\sqrt{\\frac{s}{d_{2}}}}}{2 \\sqrt{d_{2} s}}\\right) e^{- x \\sqrt{\\frac{s}{d_{1}}}} + \\left(\\frac{A \\left(\\frac{d_{1}}{d_{2}} + \\sqrt{\\frac{d_{1}}{d_{2}}}\\right) e^{b \\left(\\sqrt{\\frac{s}{d_{1}}} - \\sqrt{\\frac{s}{d_{2}}}\\right)}}{2} - \\frac{e^{- a \\sqrt{\\frac{s}{d_{2}}}}}{2 \\sqrt{d_{2} s}}\\right) e^{x \\sqrt{\\frac{s}{d_{1}}}}\\end{matrix}\\right]$"
            ],
            "text/plain": [
              "Matrix([[(A*(d1/d2 - sqrt(d1/d2))*exp(b*(sqrt(s/d1) + sqrt(s/d2)))/2 + exp(-a*sqrt(s/d2))/(2*sqrt(d2*s)))*exp(-x*sqrt(s/d1)) + (A*(d1/d2 + sqrt(d1/d2))*exp(b*(sqrt(s/d1) - sqrt(s/d2)))/2 - exp(-a*sqrt(s/d2))/(2*sqrt(d2*s)))*exp(x*sqrt(s/d1))]])"
            ]
          },
          "execution_count": 46,
          "metadata": {},
          "output_type": "execute_result"
        }
      ],
      "source": [
        "gf1"
      ]
    },
    {
      "cell_type": "code",
      "execution_count": null,
      "metadata": {
        "id": "BrmSTHzj8iZt",
        "outputId": "7da043fc-e1ff-422a-d6f0-523919a5a238"
      },
      "outputs": [
        {
          "data": {
            "text/latex": [
              "$\\displaystyle \\left[\\begin{matrix}\\left(\\frac{A \\left(\\frac{d_{1}}{d_{2}} - \\sqrt{\\frac{d_{1}}{d_{2}}}\\right) e^{b \\left(\\sqrt{\\frac{s}{d_{1}}} + \\sqrt{\\frac{s}{d_{2}}}\\right)}}{2} + \\frac{e^{- a \\sqrt{\\frac{s}{d_{2}}}}}{2 \\sqrt{d_{2} s}}\\right) e^{- x \\sqrt{\\frac{s}{d_{1}}}} + \\left(\\frac{A \\left(\\frac{d_{1}}{d_{2}} + \\sqrt{\\frac{d_{1}}{d_{2}}}\\right) e^{b \\left(\\sqrt{\\frac{s}{d_{1}}} - \\sqrt{\\frac{s}{d_{2}}}\\right)}}{2} - \\frac{e^{- a \\sqrt{\\frac{s}{d_{2}}}}}{2 \\sqrt{d_{2} s}}\\right) e^{x \\sqrt{\\frac{s}{d_{1}}}}\\end{matrix}\\right]$"
            ],
            "text/plain": [
              "Matrix([[(A*(d1/d2 - sqrt(d1/d2))*exp(b*(sqrt(s/d1) + sqrt(s/d2)))/2 + exp(-a*sqrt(s/d2))/(2*sqrt(d2*s)))*exp(-x*sqrt(s/d1)) + (A*(d1/d2 + sqrt(d1/d2))*exp(b*(sqrt(s/d1) - sqrt(s/d2)))/2 - exp(-a*sqrt(s/d2))/(2*sqrt(d2*s)))*exp(x*sqrt(s/d1))]])"
            ]
          },
          "execution_count": 42,
          "metadata": {},
          "output_type": "execute_result"
        }
      ],
      "source": [
        ""
      ]
    },
    {
      "cell_type": "code",
      "execution_count": null,
      "metadata": {
        "id": "IkitpcZO8iZu",
        "outputId": "c71b1813-cc13-468d-d842-a938b7cf9cb6"
      },
      "outputs": [
        {
          "data": {
            "text/latex": [
              "$\\displaystyle \\left[\\begin{matrix}- \\frac{e^{- a \\sqrt{\\frac{s}{d_{2}}}}}{2 \\sqrt{d_{2} s}}\\\\\\frac{e^{- a \\sqrt{\\frac{s}{d_{2}}}}}{2 \\sqrt{d_{2} s}}\\end{matrix}\\right]$"
            ],
            "text/plain": [
              "Matrix([\n",
              "[-exp(-a*sqrt(s/d2))/(2*sqrt(d2*s))],\n",
              "[ exp(-a*sqrt(s/d2))/(2*sqrt(d2*s))]])"
            ]
          },
          "execution_count": 14,
          "metadata": {},
          "output_type": "execute_result"
        }
      ],
      "source": [
        "T = src(d2,a,s)\n",
        "T"
      ]
    },
    {
      "cell_type": "code",
      "execution_count": null,
      "metadata": {
        "id": "Ywr-29lz8iZu",
        "outputId": "6272d20e-0d29-4d80-9a3e-a807839468cd"
      },
      "outputs": [
        {
          "data": {
            "text/latex": [
              "$\\displaystyle \\left[\\begin{matrix}\\frac{\\left(\\frac{d_{1}}{d_{2}} + \\sqrt{\\frac{d_{1}}{d_{2}}}\\right) e^{a \\left(\\sqrt{\\frac{s}{d_{1}}} - \\sqrt{\\frac{s}{d_{2}}}\\right)}}{2} & \\frac{\\left(\\frac{d_{1}}{d_{2}} - \\sqrt{\\frac{d_{1}}{d_{2}}}\\right) e^{- a \\left(\\sqrt{\\frac{s}{d_{1}}} + \\sqrt{\\frac{s}{d_{2}}}\\right)}}{2}\\\\\\frac{\\left(\\frac{d_{1}}{d_{2}} - \\sqrt{\\frac{d_{1}}{d_{2}}}\\right) e^{a \\left(\\sqrt{\\frac{s}{d_{1}}} + \\sqrt{\\frac{s}{d_{2}}}\\right)}}{2} & \\frac{\\left(\\frac{d_{1}}{d_{2}} + \\sqrt{\\frac{d_{1}}{d_{2}}}\\right) e^{- a \\left(\\sqrt{\\frac{s}{d_{1}}} - \\sqrt{\\frac{s}{d_{2}}}\\right)}}{2}\\end{matrix}\\right]$"
            ],
            "text/plain": [
              "Matrix([\n",
              "[(d1/d2 + sqrt(d1/d2))*exp(a*(sqrt(s/d1) - sqrt(s/d2)))/2, (d1/d2 - sqrt(d1/d2))*exp(-a*(sqrt(s/d1) + sqrt(s/d2)))/2],\n",
              "[(d1/d2 - sqrt(d1/d2))*exp(a*(sqrt(s/d1) + sqrt(s/d2)))/2, (d1/d2 + sqrt(d1/d2))*exp(-a*(sqrt(s/d1) - sqrt(s/d2)))/2]])"
            ]
          },
          "execution_count": 15,
          "metadata": {},
          "output_type": "execute_result"
        }
      ],
      "source": [
        "D = Diff(d1,d2,a,s)\n",
        "D"
      ]
    },
    {
      "cell_type": "code",
      "execution_count": null,
      "metadata": {
        "id": "qWLRc4pe8iZu",
        "outputId": "d0026391-6159-477f-b1a3-118a8589947f"
      },
      "outputs": [
        {
          "data": {
            "text/latex": [
              "$\\displaystyle \\left[\\begin{matrix}A\\\\0\\end{matrix}\\right]$"
            ],
            "text/plain": [
              "Matrix([\n",
              "[A],\n",
              "[0]])"
            ]
          },
          "execution_count": 19,
          "metadata": {},
          "output_type": "execute_result"
        }
      ],
      "source": [
        ""
      ]
    },
    {
      "cell_type": "code",
      "execution_count": null,
      "metadata": {
        "id": "oXHPQjEl8iZu",
        "outputId": "6efaadd4-dbb6-455f-fcb2-03de515aaa00"
      },
      "outputs": [
        {
          "data": {
            "text/latex": [
              "$\\displaystyle \\left[\\begin{matrix}\\frac{A \\left(\\frac{d_{1}}{d_{2}} + \\sqrt{\\frac{d_{1}}{d_{2}}}\\right) e^{a \\left(\\sqrt{\\frac{s}{d_{1}}} - \\sqrt{\\frac{s}{d_{2}}}\\right)}}{2}\\\\\\frac{A \\left(\\frac{d_{1}}{d_{2}} - \\sqrt{\\frac{d_{1}}{d_{2}}}\\right) e^{a \\left(\\sqrt{\\frac{s}{d_{1}}} + \\sqrt{\\frac{s}{d_{2}}}\\right)}}{2}\\end{matrix}\\right]$"
            ],
            "text/plain": [
              "Matrix([\n",
              "[A*(d1/d2 + sqrt(d1/d2))*exp(a*(sqrt(s/d1) - sqrt(s/d2)))/2],\n",
              "[A*(d1/d2 - sqrt(d1/d2))*exp(a*(sqrt(s/d1) + sqrt(s/d2)))/2]])"
            ]
          },
          "execution_count": 23,
          "metadata": {},
          "output_type": "execute_result"
        }
      ],
      "source": [
        "P = sym.MatMul(Diff(d1,d2,a,s),coef(A,0)).doit()\n",
        "P"
      ]
    },
    {
      "cell_type": "code",
      "execution_count": null,
      "metadata": {
        "id": "gtmDsrcL8iZu",
        "outputId": "a7dd5a89-b12e-40bc-f86a-9e7f59c40847"
      },
      "outputs": [
        {
          "data": {
            "text/latex": [
              "$\\displaystyle \\frac{A \\left(\\frac{d_{1}}{d_{2}} - \\sqrt{\\frac{d_{1}}{d_{2}}}\\right) e^{a \\left(\\sqrt{\\frac{s}{d_{1}}} + \\sqrt{\\frac{s}{d_{2}}}\\right)}}{2} + \\frac{e^{- a \\sqrt{\\frac{s}{d_{2}}}}}{2 \\sqrt{d_{2} s}}$"
            ],
            "text/plain": [
              "A*(d1/d2 - sqrt(d1/d2))*exp(a*(sqrt(s/d1) + sqrt(s/d2)))/2 + exp(-a*sqrt(s/d2))/(2*sqrt(d2*s))"
            ]
          },
          "execution_count": 27,
          "metadata": {},
          "output_type": "execute_result"
        }
      ],
      "source": [
        "F = sym.MatAdd(P,src(d2,a,s)).doit()\n",
        "F[1]"
      ]
    },
    {
      "cell_type": "code",
      "execution_count": null,
      "metadata": {
        "id": "I6l2gQ6Q8iZv",
        "outputId": "de2e4548-bb6a-49b2-a5ed-66f6db4471b6"
      },
      "outputs": [
        {
          "data": {
            "text/latex": [
              "$\\displaystyle \\left\\{\\frac{e^{- a \\sqrt{\\frac{s}{d_{2}}}} e^{- a \\left(\\sqrt{\\frac{s}{d_{1}}} - \\sqrt{\\frac{s}{d_{2}}}\\right)}}{\\sqrt{d_{2} s} \\left(\\frac{d_{1}}{d_{2}} + \\sqrt{\\frac{d_{1}}{d_{2}}}\\right)}\\right\\}$"
            ],
            "text/plain": [
              "{exp(-a*sqrt(s/d2))*exp(-a*(sqrt(s/d1) - sqrt(s/d2)))/(sqrt(d2*s)*(d1/d2 + sqrt(d1/d2)))}"
            ]
          },
          "execution_count": 29,
          "metadata": {},
          "output_type": "execute_result"
        }
      ],
      "source": [
        "sym.solveset(F[0],A)"
      ]
    },
    {
      "cell_type": "markdown",
      "metadata": {
        "id": "C8BkjDLb8iZv"
      },
      "source": [
        "# integral \n",
        "## Date : 18/06/2022"
      ]
    },
    {
      "cell_type": "code",
      "execution_count": null,
      "metadata": {
        "id": "tuNVGGIf8iZv"
      },
      "outputs": [],
      "source": [
        "t = sym.Symbol('t')"
      ]
    },
    {
      "cell_type": "code",
      "execution_count": null,
      "metadata": {
        "id": "Y2lBkxAB8iZv",
        "outputId": "558a1a21-685e-4182-eb28-fada95c10560"
      },
      "outputs": [
        {
          "data": {
            "text/latex": [
              "$\\displaystyle \\frac{e^{- \\frac{x^{2}}{4 d_{1} t}}}{2 \\sqrt{\\pi} \\sqrt{d_{1} t}}$"
            ],
            "text/plain": [
              "exp(-x**2/(4*d1*t))/(2*sqrt(pi)*sqrt(d1*t))"
            ]
          },
          "execution_count": 8,
          "metadata": {},
          "output_type": "execute_result"
        }
      ],
      "source": [
        "f = sym.exp(-x**2/(4*d1*t))/sym.sqrt(4*sym.pi*t*d1)\n",
        "f"
      ]
    },
    {
      "cell_type": "code",
      "execution_count": null,
      "metadata": {
        "id": "FbXECysQ8iZv",
        "outputId": "ab90ea7d-90c7-4227-aa44-7a5905ea0c02"
      },
      "outputs": [
        {
          "data": {
            "text/latex": [
              "$\\displaystyle \\frac{\\int\\limits_{0}^{1} \\frac{e^{- \\frac{x^{2}}{4 d_{1} t}}}{\\sqrt{d_{1}}}\\, dd_{1}}{2 \\sqrt{\\pi} \\sqrt{t}}$"
            ],
            "text/plain": [
              "Integral(exp(-x**2/(4*d1*t))/sqrt(d1), (d1, 0, 1))/(2*sqrt(pi)*sqrt(t))"
            ]
          },
          "execution_count": 9,
          "metadata": {},
          "output_type": "execute_result"
        }
      ],
      "source": [
        "sym.integrate(f,(d1,0,1)).doit()"
      ]
    },
    {
      "cell_type": "code",
      "execution_count": null,
      "metadata": {
        "id": "O9e9E-6b8iZw",
        "outputId": "5f65af78-897d-4a60-b6a9-bc0fc05a9da5"
      },
      "outputs": [
        {
          "data": {
            "text/latex": [
              "$\\displaystyle \\frac{1}{2 \\sqrt{\\pi} \\sqrt{d_{1} t}}$"
            ],
            "text/plain": [
              "1/(2*sqrt(pi)*sqrt(d1*t))"
            ]
          },
          "execution_count": 11,
          "metadata": {},
          "output_type": "execute_result"
        }
      ],
      "source": [
        "fs =f.subs(x,0).doit()\n",
        "fs"
      ]
    },
    {
      "cell_type": "code",
      "execution_count": null,
      "metadata": {
        "id": "hn_3tfOn8iZw"
      },
      "outputs": [],
      "source": [
        "f.repl"
      ]
    },
    {
      "cell_type": "markdown",
      "metadata": {
        "id": "PzKWhjDV8iZw"
      },
      "source": [
        "$$ \\left(x,D_{1},D_{2}\\right)=\\frac{\\left(\\sqrt{D_{2}}-\\sqrt{D_{1}}\\right)}{2\\ \\sqrt{\\pi\\ tD_{1}}\\left(\\sqrt{D_{1}}+\\sqrt{D_{2}}\\right)}e^{-\\frac{\\left($$"
      ]
    },
    {
      "cell_type": "markdown",
      "metadata": {
        "id": "QY9AtuPe8iZw"
      },
      "source": [
        "# Date: 21/06/2022"
      ]
    },
    {
      "cell_type": "code",
      "execution_count": null,
      "metadata": {
        "id": "_UTxakSs8iZw"
      },
      "outputs": [],
      "source": [
        "C2 = coef(A, 0)\n",
        "C0 = sym.MatMul(Diff(d2,d1,b,s),C2).doit()\n",
        "C1 = sym.MatMul(Diff(d1,d1,a,s),C0).doit() + src(d1, a, s)"
      ]
    },
    {
      "cell_type": "code",
      "execution_count": null,
      "metadata": {
        "id": "pz2UWMCt8iZx"
      },
      "outputs": [],
      "source": [
        "##"
      ]
    }
  ],
  "metadata": {
    "interpreter": {
      "hash": "136e72317e659932a9040b93c1f2f02bc3b5f36f131c72014509e6f3f47d609c"
    },
    "kernelspec": {
      "display_name": "Python 3.8.3 ('base')",
      "language": "python",
      "name": "python3"
    },
    "language_info": {
      "codemirror_mode": {
        "name": "ipython",
        "version": 3
      },
      "file_extension": ".py",
      "mimetype": "text/x-python",
      "name": "python",
      "nbconvert_exporter": "python",
      "pygments_lexer": "ipython3",
      "version": "3.8.3"
    },
    "orig_nbformat": 4,
    "colab": {
      "name": "sympy.ipynb",
      "provenance": [],
      "include_colab_link": true
    }
  },
  "nbformat": 4,
  "nbformat_minor": 0
}